{
 "cells": [
  {
   "cell_type": "code",
   "execution_count": 1,
   "metadata": {},
   "outputs": [
    {
     "name": "stderr",
     "output_type": "stream",
     "text": [
      "/home/silas/anaconda3/lib/python3.6/site-packages/sklearn/ensemble/weight_boosting.py:29: DeprecationWarning: numpy.core.umath_tests is an internal NumPy module and should not be imported. It will be removed in a future NumPy release.\n",
      "  from numpy.core.umath_tests import inner1d\n",
      "/home/silas/anaconda3/lib/python3.6/site-packages/h5py/__init__.py:36: FutureWarning: Conversion of the second argument of issubdtype from `float` to `np.floating` is deprecated. In future, it will be treated as `np.float64 == np.dtype(float).type`.\n",
      "  from ._conv import register_converters as _register_converters\n",
      "Using TensorFlow backend.\n"
     ]
    }
   ],
   "source": [
    "import pandas as pd\n",
    "import numpy as np\n",
    "import itertools\n",
    "# import tensorflow as tf\n",
    "import matplotlib.pyplot as plt\n",
    "import seaborn as sns\n",
    "import time\n",
    "import pickle\n",
    "import timeit\n",
    "import csv\n",
    "import os\n",
    "import string\n",
    "import textblob\n",
    "import requests\n",
    "import io\n",
    "import nltk\n",
    "\n",
    "from sklearn.pipeline import make_pipeline, Pipeline\n",
    "from sklearn.model_selection import GridSearchCV, train_test_split, StratifiedKFold, cross_val_score\n",
    "\n",
    "from sklearn.feature_extraction.text import CountVectorizer, TfidfTransformer, TfidfVectorizer\n",
    "from sklearn.linear_model import LogisticRegression, SGDClassifier\n",
    "from sklearn.svm import SVC\n",
    "from sklearn.naive_bayes import MultinomialNB\n",
    "from sklearn.neighbors import KNeighborsClassifier\n",
    "\n",
    "from sklearn.decomposition import PCA\n",
    "from sklearn.decomposition import RandomizedPCA\n",
    "\n",
    "from sklearn.metrics import make_scorer, accuracy_score, f1_score, roc_curve, auc\n",
    "from sklearn.metrics import homogeneity_score, completeness_score, v_measure_score, adjusted_rand_score, silhouette_score\n",
    "from sklearn.metrics import confusion_matrix, roc_auc_score, recall_score, precision_score, classification_report\n",
    "from sklearn.metrics.pairwise import cosine_similarity\n",
    "\n",
    "from sklearn import preprocessing\n",
    "from sklearn import decomposition, ensemble\n",
    "\n",
    "from keras.preprocessing import text, sequence\n",
    "from keras import layers, models, optimizers\n",
    "\n",
    "from importlib import reload\n",
    "# reload(text_processing)\n",
    "\n",
    "\n",
    "# nlp = spacy.load('en') # loading the language model \n",
    "#data = pd.read_feather('data/preprocessed_data') # reading a pandas dataframe which is stored as a feather file\n",
    "\n",
    "\n",
    "%matplotlib inline\n",
    "# sns.set_context('poster')\n",
    "# sns.set_color_codes()\n",
    "full_path_data_store = '/home/silas/final_project/Data/'"
   ]
  },
  {
   "cell_type": "markdown",
   "metadata": {},
   "source": [
    "#### load data"
   ]
  },
  {
   "cell_type": "code",
   "execution_count": 2,
   "metadata": {},
   "outputs": [],
   "source": [
    "with open(full_path_data_store +'df_datasets.pickle', 'rb') as handle:\n",
    "    df_datasets = pickle.load(handle)"
   ]
  },
  {
   "cell_type": "markdown",
   "metadata": {},
   "source": [
    "### Runs\n",
    "\n",
    "> binary ('bin')\n",
    "   - toy datasets (e.g. 'bin_spam')\n",
    "   - climate merged ('bin_mgd')\n",
    "       + 'science' (e.g. 'bin_mgd_science')\n",
    "\n",
    "> multi-class as binary ('mult_bin')\n",
    "   - toy datasets (e.g. 'mult_bin_bbc')\n",
    "   - climate_merged ('mult_bin_mgd')\n",
    "       + 'science' ('mult_bin_mgd_science')\n",
    "\n",
    "> multi-class as multi-class ('mult_mult')\n",
    "   - toy datasets (e.g. 'mult_mult_bbc')\n",
    "   - climate_merged ('mult_mult_mgd')\n",
    "       + 'science' ('mult_mult_mgd_science')\n",
    "    \n",
    "    "
   ]
  },
  {
   "cell_type": "code",
   "execution_count": 3,
   "metadata": {},
   "outputs": [
    {
     "data": {
      "text/plain": [
       "['climate', 'spam', 'newsgroups', 'reuters', 'bbc', 'science']"
      ]
     },
     "execution_count": 3,
     "metadata": {},
     "output_type": "execute_result"
    }
   ],
   "source": [
    "# available datasets\n",
    "list(df_datasets.keys())"
   ]
  },
  {
   "cell_type": "code",
   "execution_count": 5,
   "metadata": {},
   "outputs": [
    {
     "name": "stdout",
     "output_type": "stream",
     "text": [
      "provide title of run: bin_spam\n",
      "provide dataset name: spam\n"
     ]
    }
   ],
   "source": [
    "# enter run title here\n",
    "run_title = input('provide title of run: ')\n",
    "# make dir for saves\n",
    "# os.mkdir('Output/'+run_title)\n",
    "# enter dataset\n",
    "df_name_=input('provide dataset name: ')"
   ]
  },
  {
   "cell_type": "code",
   "execution_count": 4,
   "metadata": {},
   "outputs": [
    {
     "data": {
      "text/html": [
       "<div>\n",
       "<style scoped>\n",
       "    .dataframe tbody tr th:only-of-type {\n",
       "        vertical-align: middle;\n",
       "    }\n",
       "\n",
       "    .dataframe tbody tr th {\n",
       "        vertical-align: top;\n",
       "    }\n",
       "\n",
       "    .dataframe thead th {\n",
       "        text-align: right;\n",
       "    }\n",
       "</style>\n",
       "<table border=\"1\" class=\"dataframe\">\n",
       "  <thead>\n",
       "    <tr style=\"text-align: right;\">\n",
       "      <th></th>\n",
       "      <th>texts</th>\n",
       "      <th>labels</th>\n",
       "      <th>processed_text</th>\n",
       "    </tr>\n",
       "  </thead>\n",
       "  <tbody>\n",
       "    <tr>\n",
       "      <th>0</th>\n",
       "      <td>Go until jurong point, crazy.. Available only ...</td>\n",
       "      <td>0</td>\n",
       "      <td>jurong point crazy available bugis great world...</td>\n",
       "    </tr>\n",
       "    <tr>\n",
       "      <th>1</th>\n",
       "      <td>Ok lar... Joking wif u oni...</td>\n",
       "      <td>0</td>\n",
       "      <td>lar joke wif oni</td>\n",
       "    </tr>\n",
       "    <tr>\n",
       "      <th>2</th>\n",
       "      <td>Free entry in 2 a wkly comp to win FA Cup fina...</td>\n",
       "      <td>1</td>\n",
       "      <td>free entry wkly comp win cup final tkts text r...</td>\n",
       "    </tr>\n",
       "    <tr>\n",
       "      <th>3</th>\n",
       "      <td>U dun say so early hor... U c already then say...</td>\n",
       "      <td>0</td>\n",
       "      <td>dun hor</td>\n",
       "    </tr>\n",
       "    <tr>\n",
       "      <th>4</th>\n",
       "      <td>Nah I don't think he goes to usf, he lives aro...</td>\n",
       "      <td>0</td>\n",
       "      <td>nah think usf live</td>\n",
       "    </tr>\n",
       "  </tbody>\n",
       "</table>\n",
       "</div>"
      ],
      "text/plain": [
       "                                               texts  labels  \\\n",
       "0  Go until jurong point, crazy.. Available only ...       0   \n",
       "1                      Ok lar... Joking wif u oni...       0   \n",
       "2  Free entry in 2 a wkly comp to win FA Cup fina...       1   \n",
       "3  U dun say so early hor... U c already then say...       0   \n",
       "4  Nah I don't think he goes to usf, he lives aro...       0   \n",
       "\n",
       "                                      processed_text  \n",
       "0  jurong point crazy available bugis great world...  \n",
       "1                                   lar joke wif oni  \n",
       "2  free entry wkly comp win cup final tkts text r...  \n",
       "3                                            dun hor  \n",
       "4                                 nah think usf live  "
      ]
     },
     "execution_count": 4,
     "metadata": {},
     "output_type": "execute_result"
    }
   ],
   "source": [
    "#Example: \n",
    "df_datasets[df_name_].head()"
   ]
  },
  {
   "cell_type": "markdown",
   "metadata": {},
   "source": [
    "### Data splits"
   ]
  },
  {
   "cell_type": "code",
   "execution_count": 6,
   "metadata": {},
   "outputs": [],
   "source": [
    "# split dataframe into text and labels\n",
    "\n",
    "def pre_split_data(df):\n",
    "    texts = df.texts\n",
    "    labels = df.labels\n",
    "    processed_texts = df.processed_text\n",
    "    return  texts,labels,processed_texts\n",
    "\n",
    "\n",
    "texts,labels,processed_texts=pre_split_data(df_datasets[df_name_])"
   ]
  },
  {
   "cell_type": "code",
   "execution_count": 7,
   "metadata": {},
   "outputs": [],
   "source": [
    "# UNPROCESSED: raw text, split the dataset into training and validation datasets \n",
    "train_x, valid_x, train_y_text_label, valid_y_text_label = train_test_split(texts, labels)\n",
    "\n",
    "# PROCESSED: preprocessed text, split the dataset into training and validation datasets \n",
    "train_xp, valid_xp, train_yp_text_label, valid_yp_text_label = train_test_split(processed_texts, labels)\n",
    "\n",
    "# label encode the target variable for raw and processed datasets\n",
    "encoder = preprocessing.LabelEncoder()\n",
    "train_y = encoder.fit_transform(train_y_text_label)\n",
    "valid_y = encoder.fit_transform(valid_y_text_label)\n",
    "train_yp = encoder.fit_transform(train_yp_text_label)\n",
    "valid_yp = encoder.fit_transform(valid_yp_text_label)"
   ]
  },
  {
   "cell_type": "code",
   "execution_count": 8,
   "metadata": {},
   "outputs": [],
   "source": [
    "# dictionary of recording run times for models\n",
    "time_keeper={}"
   ]
  },
  {
   "cell_type": "markdown",
   "metadata": {},
   "source": [
    "### Binarize data labels\n",
    "- binary classification --> takes one category (ex: label '1') and makes '1' all others '0'"
   ]
  },
  {
   "cell_type": "code",
   "execution_count": 9,
   "metadata": {},
   "outputs": [
    {
     "name": "stdout",
     "output_type": "stream",
     "text": [
      "enter 1 to binarize 1\n",
      "binarizing data...\n",
      "finished\n",
      "positive class 149\n",
      "negative class 1074\n"
     ]
    }
   ],
   "source": [
    "# run if binary experiment\n",
    "\n",
    "binary=int(input('enter 1 to binarize '))\n",
    "\n",
    "def binarize(train_y,valid_y,train_yp,valid_yp):\n",
    "    \n",
    "    train_y = np.array((pd.DataFrame({'t_label':train_y}).t_label == 1).astype('int'))\n",
    "    valid_y = np.array((pd.DataFrame({'t_label':valid_y}).t_label == 1).astype('int'))\n",
    "    train_yp = np.array((pd.DataFrame({'t_label':train_yp}).t_label == 1).astype('int'))\n",
    "    valid_yp = np.array((pd.DataFrame({'t_label':valid_yp}).t_label == 1).astype('int'))\n",
    "    \n",
    "    return train_y,valid_y,train_yp,valid_yp\n",
    "\n",
    "if binary==1:\n",
    "    print('binarizing data...')\n",
    "    train_y,valid_y,train_yp,valid_yp=binarize(train_y,valid_y,train_yp,valid_yp)\n",
    "    print('finished')\n",
    "    # class counts for binarized df\n",
    "    print(\"positive class {}\\nnegative class {}\".format(len(valid_y[valid_y==1]),len(valid_y[valid_y==0])))"
   ]
  },
  {
   "cell_type": "markdown",
   "metadata": {},
   "source": [
    "## Feature Engineering\n",
    "\n",
    "- https://www.analyticsvidhya.com/blog/2018/04/a-comprehensive-guide-to-understand-and-implement-text-classification-in-python/"
   ]
  },
  {
   "cell_type": "markdown",
   "metadata": {},
   "source": [
    "### Count Vectors"
   ]
  },
  {
   "cell_type": "code",
   "execution_count": 15,
   "metadata": {},
   "outputs": [],
   "source": [
    "# params take form of (analyzer, token pattern, stop_words)\n",
    "\n",
    "def run_vectorizer(train_x,valid_x, model, params):\n",
    "\n",
    "    # create a vectorizer object \n",
    "    if model == CountVectorizer:\n",
    "        vect = model(analyzer=params[0], token_pattern=params[1], stop_words=params[2], \n",
    "                     lowercase=params[3], ngram_range=params[4])\n",
    "    \n",
    "    else:\n",
    "        vect = model(model(analyzer=params[0], max_df=params[1], min_df=params[2], max_features=params[3], \n",
    "          stop_words=params[4], use_idf=params[5]), token_pattern=params[6], ngram_range=params[7])\n",
    "    \n",
    "    \n",
    "    vect.fit(texts)\n",
    "\n",
    "    # transform the training and validation data using count vectorizer objectea\n",
    "    xtrain_ =  vect.transform(train_x)\n",
    "    xvalid_ =  vect.transform(valid_x)\n",
    "    \n",
    "    return xtrain_, xvalid_"
   ]
  },
  {
   "cell_type": "code",
   "execution_count": 21,
   "metadata": {},
   "outputs": [],
   "source": [
    "start_time = timeit.default_timer()\n",
    "\n",
    "# count vectorizer params\n",
    "model_count = CountVectorizer\n",
    "\n",
    "params_count1 = ('word', r'\\w{1,}', 'english', True, (1,1))\n",
    "params_count2 = ('char', r'\\w{1,}', 'english', True, (1,1))\n",
    "params_count3 = ('word', r'\\w{1,}', 'english', True, (2,3))\n",
    "params_count4 = ('char', r'\\w{1,}', 'english', True, (2,3))\n",
    "\n",
    "xtrain_count,xvalid_count= run_vectorizer(train_xp,valid_xp, model_count, params_count1)\n",
    "xtrain_count_char,xvalid_count_char = run_vectorizer(train_xp,valid_xp, model_count, params_count2)\n",
    "xtrain_count_ngram,xvalid_count_ngram = run_vectorizer(train_xp,valid_xp, model_count, params_count3)\n",
    "xtrain_count_ngram_chars,xvalid_count_ngram_chars = run_vectorizer(train_xp,valid_xp, model_count, params_count4)\n",
    "\n",
    "# code you want to evaluate\n",
    "\n",
    "elapsed = timeit.default_timer() - start_time\n",
    "time_keeper['count_vectorization'] = elapsed"
   ]
  },
  {
   "cell_type": "markdown",
   "metadata": {},
   "source": [
    "### TF-IDF Vectors\n",
    "\n",
    "#### Tfidf vectorizer:\n",
    "- Strips out “english\" stop words\n",
    "- Filters out terms that occur in more than half of the docs (max_df=0.5)\n",
    "- Filters out terms that occur in only one document (min_df=2).\n",
    "- Selects the 10,000 most frequently occuring words in the corpus.\n",
    "- Normalizes the vector (L2 norm of 1.0) to normalize the effect of document length on the tf-idf values. "
   ]
  },
  {
   "cell_type": "code",
   "execution_count": 16,
   "metadata": {},
   "outputs": [],
   "source": [
    "start_time = timeit.default_timer()\n",
    "\n",
    "# tfidf vectorizer params\n",
    "model_tfidf = TfidfVectorizer\n",
    "\n",
    "params_tfidf1 = ('word',0.9,2,30000,'english',True, r'\\w{1,}', (1,1))\n",
    "params_tfidf2 = ('char',0.9,2,30000,'english',True, r'\\w{1,}', (1,1))\n",
    "params_tfidf3 = ('word',0.9,2,30000,'english',True, r'\\w{1,}', (2,3))\n",
    "params_tfidf4 = ('char',0.9,2,30000,'english',True, r'\\w{1,}', (2,3))\n",
    "\n",
    "xtrain_tfidf,xvalid_tfidf= run_vectorizer(train_xp,valid_xp, model_tfidf, params_tfidf1)\n",
    "xtrain_tfidf_char,xvalid_tfidf_char = run_vectorizer(train_xp,valid_xp, model_tfidf, params_tfidf2)\n",
    "xtrain_tfidf_ngram,xvalid_tfidf_ngram = run_vectorizer(train_xp,valid_xp, model_tfidf, params_tfidf3)\n",
    "xtrain_tfidf_ngram_chars,xvalid_tfidf_ngram_chars = run_vectorizer(train_xp,valid_xp, model_tfidf, params_tfidf4)\n",
    "\n",
    "elapsed = timeit.default_timer() - start_time\n",
    "time_keeper['tfidf_vectorization'] = elapsed"
   ]
  },
  {
   "cell_type": "code",
   "execution_count": 11,
   "metadata": {},
   "outputs": [],
   "source": [
    "# %timeit run_vectorizer(train_xp,valid_xp, model_tfidf, params_tfidf1)"
   ]
  },
  {
   "cell_type": "markdown",
   "metadata": {},
   "source": [
    "### Text / NLP based features"
   ]
  },
  {
   "cell_type": "code",
   "execution_count": 16,
   "metadata": {},
   "outputs": [],
   "source": [
    "def get_NLP_features(texts, normed_=True):\n",
    "\n",
    "    trainDF=pd.DataFrame()\n",
    "    trainDF['char_count'] = texts.apply(len)\n",
    "    trainDF['word_count'] = texts.apply(lambda x: len(x.split()))\n",
    "    trainDF['word_density'] = trainDF['char_count'] / (trainDF['word_count']+1)\n",
    "    trainDF['punctuation_count'] = texts.apply(lambda x: len(\"\".join(_ for _ in x if _ in string.punctuation))) \n",
    "    trainDF['title_word_count'] = texts.apply(lambda x: len([wrd for wrd in x.split() if wrd.istitle()]))\n",
    "    trainDF['upper_case_word_count'] = texts.apply(lambda x: len([wrd for wrd in x.split() if wrd.isupper()]))\n",
    "    \n",
    "    pos_family = {\n",
    "        'noun' : ['NN','NNS','NNP','NNPS'],\n",
    "        'pron' : ['PRP','PRP$','WP','WP$'],\n",
    "        'verb' : ['VB','VBD','VBG','VBN','VBP','VBZ'],\n",
    "        'adj' :  ['JJ','JJR','JJS'],\n",
    "        'adv' : ['RB','RBR','RBS','WRB']\n",
    "    }\n",
    "    \n",
    "    # function to check and get the part of speech tag count of a words in a given sentence\n",
    "    def check_pos_tag(x, flag):\n",
    "        cnt = 0\n",
    "        try:\n",
    "            wiki = textblob.TextBlob(x)\n",
    "            for tup in wiki.tags:\n",
    "                ppo = list(tup)[1]\n",
    "                if ppo in pos_family[flag]:\n",
    "                    cnt += 1\n",
    "        except:\n",
    "            pass\n",
    "        return cnt\n",
    "    \n",
    "    trainDF['noun_count'] = texts.apply(lambda x: check_pos_tag(x, 'noun'))\n",
    "    trainDF['verb_count'] = texts.apply(lambda x: check_pos_tag(x, 'verb'))\n",
    "    trainDF['adj_count'] = texts.apply(lambda x: check_pos_tag(x, 'adj'))\n",
    "    trainDF['adv_count'] = texts.apply(lambda x: check_pos_tag(x, 'adv'))\n",
    "    trainDF['pron_count'] = texts.apply(lambda x: check_pos_tag(x, 'pron'))\n",
    "    \n",
    "    if normed_:\n",
    "        \n",
    "        x = trainDF.values #returns a numpy array\n",
    "        min_max_scaler = preprocessing.MinMaxScaler()\n",
    "        x_scaled = min_max_scaler.fit_transform(x)\n",
    "        trainDF_normed = pd.DataFrame(x_scaled,columns=trainDF.columns)\n",
    "        trainDF_normed.to_pickle('Other/{}_nlp_features_normed'.format(run_title))\n",
    "        \n",
    "        return trainDF_normed\n",
    "    \n",
    "    time_=time.strftime(\"%a_%d_%b_%Y_%H:%M:%S\", time.gmtime())\n",
    "    trainDF.to_pickle('Output/{}/{}_nlp_features_{}'.format(run_title,run_title, df_name))\n",
    "    \n",
    "    return trainDF "
   ]
  },
  {
   "cell_type": "code",
   "execution_count": 17,
   "metadata": {},
   "outputs": [],
   "source": [
    "NLP_features = get_NLP_features(train_x,normed_=False)"
   ]
  },
  {
   "cell_type": "code",
   "execution_count": 18,
   "metadata": {},
   "outputs": [
    {
     "data": {
      "text/html": [
       "<div>\n",
       "<style scoped>\n",
       "    .dataframe tbody tr th:only-of-type {\n",
       "        vertical-align: middle;\n",
       "    }\n",
       "\n",
       "    .dataframe tbody tr th {\n",
       "        vertical-align: top;\n",
       "    }\n",
       "\n",
       "    .dataframe thead th {\n",
       "        text-align: right;\n",
       "    }\n",
       "</style>\n",
       "<table border=\"1\" class=\"dataframe\">\n",
       "  <thead>\n",
       "    <tr style=\"text-align: right;\">\n",
       "      <th></th>\n",
       "      <th>char_count</th>\n",
       "      <th>word_count</th>\n",
       "      <th>word_density</th>\n",
       "      <th>punctuation_count</th>\n",
       "      <th>title_word_count</th>\n",
       "      <th>upper_case_word_count</th>\n",
       "      <th>noun_count</th>\n",
       "      <th>verb_count</th>\n",
       "      <th>adj_count</th>\n",
       "      <th>adv_count</th>\n",
       "      <th>pron_count</th>\n",
       "    </tr>\n",
       "  </thead>\n",
       "  <tbody>\n",
       "    <tr>\n",
       "      <th>3919</th>\n",
       "      <td>1189</td>\n",
       "      <td>171</td>\n",
       "      <td>6.912791</td>\n",
       "      <td>15</td>\n",
       "      <td>8</td>\n",
       "      <td>1</td>\n",
       "      <td>51</td>\n",
       "      <td>27</td>\n",
       "      <td>26</td>\n",
       "      <td>12</td>\n",
       "      <td>2</td>\n",
       "    </tr>\n",
       "    <tr>\n",
       "      <th>1360</th>\n",
       "      <td>1073</td>\n",
       "      <td>163</td>\n",
       "      <td>6.542683</td>\n",
       "      <td>29</td>\n",
       "      <td>15</td>\n",
       "      <td>3</td>\n",
       "      <td>58</td>\n",
       "      <td>31</td>\n",
       "      <td>25</td>\n",
       "      <td>2</td>\n",
       "      <td>2</td>\n",
       "    </tr>\n",
       "    <tr>\n",
       "      <th>2502</th>\n",
       "      <td>1148</td>\n",
       "      <td>173</td>\n",
       "      <td>6.597701</td>\n",
       "      <td>33</td>\n",
       "      <td>10</td>\n",
       "      <td>2</td>\n",
       "      <td>63</td>\n",
       "      <td>24</td>\n",
       "      <td>20</td>\n",
       "      <td>6</td>\n",
       "      <td>4</td>\n",
       "    </tr>\n",
       "    <tr>\n",
       "      <th>905</th>\n",
       "      <td>1252</td>\n",
       "      <td>199</td>\n",
       "      <td>6.260000</td>\n",
       "      <td>50</td>\n",
       "      <td>15</td>\n",
       "      <td>0</td>\n",
       "      <td>62</td>\n",
       "      <td>38</td>\n",
       "      <td>20</td>\n",
       "      <td>10</td>\n",
       "      <td>4</td>\n",
       "    </tr>\n",
       "    <tr>\n",
       "      <th>5449</th>\n",
       "      <td>1164</td>\n",
       "      <td>180</td>\n",
       "      <td>6.430939</td>\n",
       "      <td>62</td>\n",
       "      <td>12</td>\n",
       "      <td>9</td>\n",
       "      <td>91</td>\n",
       "      <td>22</td>\n",
       "      <td>7</td>\n",
       "      <td>7</td>\n",
       "      <td>0</td>\n",
       "    </tr>\n",
       "  </tbody>\n",
       "</table>\n",
       "</div>"
      ],
      "text/plain": [
       "      char_count  word_count  word_density  punctuation_count  \\\n",
       "3919        1189         171      6.912791                 15   \n",
       "1360        1073         163      6.542683                 29   \n",
       "2502        1148         173      6.597701                 33   \n",
       "905         1252         199      6.260000                 50   \n",
       "5449        1164         180      6.430939                 62   \n",
       "\n",
       "      title_word_count  upper_case_word_count  noun_count  verb_count  \\\n",
       "3919                 8                      1          51          27   \n",
       "1360                15                      3          58          31   \n",
       "2502                10                      2          63          24   \n",
       "905                 15                      0          62          38   \n",
       "5449                12                      9          91          22   \n",
       "\n",
       "      adj_count  adv_count  pron_count  \n",
       "3919         26         12           2  \n",
       "1360         25          2           2  \n",
       "2502         20          6           4  \n",
       "905          20         10           4  \n",
       "5449          7          7           0  "
      ]
     },
     "execution_count": 18,
     "metadata": {},
     "output_type": "execute_result"
    }
   ],
   "source": [
    "NLP_features.head()"
   ]
  },
  {
   "cell_type": "markdown",
   "metadata": {},
   "source": [
    "### Topic Model\n",
    "\n",
    "-  https://towardsdatascience.com/topic-modeling-and-latent-dirichlet-allocation-in-python-9bf156893c24"
   ]
  },
  {
   "cell_type": "code",
   "execution_count": null,
   "metadata": {},
   "outputs": [],
   "source": [
    "def list_dictionary(dictionary, n=10):\n",
    "    '''\n",
    "    Returns: the first n words from dictionary \n",
    "    '''\n",
    "    \n",
    "    count = 0\n",
    "    for k, v in dictionary.iteritems():\n",
    "        print(k, v)\n",
    "        count += 1\n",
    "        if count > n:\n",
    "            break\n",
    "            \n",
    "# list_dictionary(dictionary, top=10)"
   ]
  },
  {
   "cell_type": "code",
   "execution_count": null,
   "metadata": {},
   "outputs": [],
   "source": [
    "def inspect_corpus_doc(corpus,doc_to_insp):\n",
    "    \"\"\"\n",
    "    Inspect a doc in the corpus for word frequencies\n",
    "    Args\n",
    "        corpus: corpus\n",
    "        doc_to_insp: int value to show n docs  \n",
    "    Return\n",
    "        None\n",
    "    \"\"\"\n",
    "    \n",
    "    doc_insp = corpus[doc_to_insp]\n",
    "    for i in range(len(doc_insp)):\n",
    "        print(\"Word {} (\\\"{}\\\") score {}\".format(doc_insp[i][0],dictionary[doc_insp[i][0]],doc_insp[i][1]))"
   ]
  },
  {
   "cell_type": "code",
   "execution_count": null,
   "metadata": {},
   "outputs": [],
   "source": [
    "# print topics from lda_model\n",
    "def get_topics(model):\n",
    "    for idx, topic in model.print_topics(-1):\n",
    "        print('Topic: {} \\nWords: {}'.format(idx, topic))\n",
    "# get_topics(lda_model)"
   ]
  },
  {
   "cell_type": "code",
   "execution_count": null,
   "metadata": {},
   "outputs": [],
   "source": [
    "# inspect where doc in corpus would be classified/assigned topic probability\n",
    "def lda_in_doc_classification(model, corpus, doc_num):\n",
    "    for index, score in sorted(model[corpus[doc_num]], key=lambda tup: -1*tup[1]):\n",
    "        print(\"\\nScore: {}\\t \\nTopic: {}\".format(score, model.print_topic(index, 10)))\n",
    "# lda_in_doc_classification(lda_model, bow_corpus, 20)\n",
    "# lda_in_doc_classification(lda_model_tfidf, bow_corpus, 100)"
   ]
  },
  {
   "cell_type": "code",
   "execution_count": null,
   "metadata": {},
   "outputs": [],
   "source": [
    "def lda_out_doc_classification(unseen_document):\n",
    "    \"\"\"\n",
    "    Takes a list of a single doc string\n",
    "    example: unseen_document = ['The night love tomorrow']\n",
    "    Args\n",
    "        unseen_document: single list of tokens\n",
    "    \"\"\"\n",
    "    from text_processing import preprocess_spacy\n",
    "    text = preprocess_spacy(pd.DataFrame({'texts': unseen_document})).str.split()[0]\n",
    "    bow_vector = dictionary.doc2bow(text)\n",
    "    for index, score in sorted(lda_model[bow_vector], key=lambda tup: -1*tup[1]):\n",
    "        print(\"Score: {}\\t Topic: {}\".format(score, lda_model.print_topic(index, 5)))"
   ]
  },
  {
   "cell_type": "code",
   "execution_count": null,
   "metadata": {},
   "outputs": [],
   "source": [
    "# build dictionary, bow corpus, and tfidf corpus (using bow corpus)\n",
    "from gensim.corpora import Dictionary\n",
    "from gensim.models import TfidfModel,LdaMulticore\n",
    "dictionary = Dictionary(processed_texts.str.split())\n",
    "dictionary.filter_extremes(no_below=20, no_above=0.1, keep_n=100000)\n",
    "bow_corpus = [dictionary.doc2bow(doc) for doc in train_xp.str.split()]\n",
    "tfidf = TfidfModel(bow_corpus)\n",
    "corpus_tfidf = tfidf[bow_corpus]"
   ]
  },
  {
   "cell_type": "code",
   "execution_count": null,
   "metadata": {},
   "outputs": [],
   "source": [
    "inspect_corpus_doc(bow_corpus,1)"
   ]
  },
  {
   "cell_type": "code",
   "execution_count": null,
   "metadata": {},
   "outputs": [],
   "source": [
    "inspect_corpus_doc(corpus_tfidf,1)"
   ]
  },
  {
   "cell_type": "code",
   "execution_count": null,
   "metadata": {},
   "outputs": [],
   "source": [
    "# Running LDA using Bag of Words\n",
    "lda_model = LdaMulticore(bow_corpus, num_topics=10, id2word=dictionary, passes=2, workers=2)"
   ]
  },
  {
   "cell_type": "code",
   "execution_count": null,
   "metadata": {},
   "outputs": [],
   "source": [
    "# Running LDA using TF-IDF\n",
    "lda_model_tfidf = LdaMulticore(corpus_tfidf, num_topics=10, id2word=dictionary, passes=2, workers=4)"
   ]
  },
  {
   "cell_type": "code",
   "execution_count": null,
   "metadata": {},
   "outputs": [],
   "source": [
    "get_topics(lda_model_tfidf)"
   ]
  },
  {
   "cell_type": "code",
   "execution_count": null,
   "metadata": {},
   "outputs": [],
   "source": [
    "lda_model_tfidf.show_topics(10)\n",
    "# lda_model_tfidf.get_topics().shape"
   ]
  },
  {
   "cell_type": "code",
   "execution_count": null,
   "metadata": {},
   "outputs": [],
   "source": [
    "unseen_document=['Climate policy jurisdiction based reform']\n",
    "lda_out_doc_classification(unseen_document)"
   ]
  },
  {
   "cell_type": "markdown",
   "metadata": {},
   "source": [
    "#### LDA TFIDF similarity"
   ]
  },
  {
   "cell_type": "code",
   "execution_count": null,
   "metadata": {},
   "outputs": [],
   "source": [
    "from nltk import word_tokenize\n",
    "query_doc = [w.lower() for w in word_tokenize(\"here is good place to stay.\")]\n",
    "print(query_doc)\n",
    "query_doc_bow = dictionary.doc2bow(query_doc)\n",
    "print(query_doc_bow)\n",
    "query_doc_tf_idf = tfidf[query_doc_bow]\n",
    "print(query_doc_tf_idf)\n"
   ]
  },
  {
   "cell_type": "code",
   "execution_count": null,
   "metadata": {},
   "outputs": [],
   "source": [
    "# TFIDF\n",
    "# https://www.oreilly.com/learning/how-do-i-compare-document-similarity-using-python\n",
    "# TFIDF = TfidfModel(corpus)\n",
    "from gensim.similarities import Similarity\n",
    "sims = Similarity('temp' , corpus_tfidf, num_features = len(dictionary))\n",
    "sim_output= sims[query_doc_tf_idf]\n",
    "sim_output = sorted(enumerate(sim_output), key=lambda item: -item[1])\n",
    "        \n",
    "# inspect_corpus(corpus,1704)"
   ]
  },
  {
   "cell_type": "code",
   "execution_count": null,
   "metadata": {},
   "outputs": [],
   "source": [
    "len(sim_output)"
   ]
  },
  {
   "cell_type": "code",
   "execution_count": null,
   "metadata": {},
   "outputs": [],
   "source": [
    "\"\"\"\n",
    "q_doc_TFIDF = tfidf[q_doc]\n",
    "temp_lst=[]\n",
    "for idx,i in enumerate(sims[q_doc_TFIDF]):\n",
    "    if i != 0.:\n",
    "        temp_lst.append((idx,i))\n",
    "\"\"\""
   ]
  },
  {
   "cell_type": "markdown",
   "metadata": {},
   "source": [
    "## Models"
   ]
  },
  {
   "cell_type": "code",
   "execution_count": 18,
   "metadata": {},
   "outputs": [],
   "source": [
    "def train_model(classifier, train_x, train_y, valid_x, valid_y, is_neural_net=False):\n",
    "    # fit the training dataset on the classifier\n",
    "    print('Running model...')\n",
    "    start_time = timeit.default_timer()\n",
    "    classifier.fit(train_x, train_y)\n",
    "    \n",
    "    # predict the labels on validation dataset\n",
    "    y_predicted = classifier.predict(valid_x)\n",
    "    \n",
    "    if is_neural_net:\n",
    "        y_predicted = y_predicted.argmax(axis=-1)\n",
    "    \n",
    "    \n",
    "    \n",
    "    elapsed = timeit.default_timer() - start_time\n",
    "    print('Fetching report...') # builds a report from the training\n",
    "    plot_confusion_matrix(valid_y, y_predicted)\n",
    "    report = classification_report(valid_y, y_predicted)\n",
    "    lines = report.split('\\n')\n",
    "    report_data = []\n",
    "    for line in lines[2:-3]:\n",
    "        row = {}\n",
    "        row_data = line.split('      ')\n",
    "        row['class'] = row_data[1]\n",
    "        row['precision'] = float(row_data[2])\n",
    "        row['recall'] = float(row_data[3])\n",
    "        row['f1_score'] = float(row_data[4])\n",
    "        row['support'] = int(row_data[5])\n",
    "        row['time_secs'] = elapsed\n",
    "        report_data.append(row)\n",
    "    dataframe = pd.DataFrame(report_data)\n",
    "    \n",
    "    return dataframe"
   ]
  },
  {
   "cell_type": "code",
   "execution_count": 11,
   "metadata": {},
   "outputs": [],
   "source": [
    "def plot_confusion_matrix(valid_y, y_predicted, savefig_=True):\n",
    "    cm = confusion_matrix(valid_y, y_predicted)\n",
    "    df_cm = pd.DataFrame(cm)\n",
    "    fig = plt.figure(figsize=(4,3))\n",
    "    heatmap = sns.heatmap(df_cm,annot=True,cmap='Blues', fmt='g', cbar=False)\n",
    "    heatmap.set(xlabel='__Output__')\n",
    "    if savefig_:\n",
    "        time_=time.strftime(\"%a_%d_%b_%Y_%H:%M:%S\", time.gmtime())\n",
    "        plt.savefig('Output/{}/confusion_matrix_{}_{}.png'.format(run_title,run_title,time_))"
   ]
  },
  {
   "cell_type": "code",
   "execution_count": 12,
   "metadata": {},
   "outputs": [],
   "source": [
    "def classification_report_out(report,df_title):\n",
    "    '''\n",
    "    Builds a dataframe from a classification report\n",
    "    '''\n",
    "    report_data = []\n",
    "    lines = report.split('\\n')\n",
    "    for line in lines[2:-3]:\n",
    "        row = {}\n",
    "        row_data = line.split('      ')\n",
    "        row['class'] = row_data[0]\n",
    "        row['precision'] = float(row_data[1])\n",
    "        row['recall'] = float(row_data[2])\n",
    "        row['f1_score'] = float(row_data[3])\n",
    "        row['support'] = float(row_data[4])\n",
    "        report_data.append(row)\n",
    "    dataframe = pd.DataFrame.from_dict(report_data)\n",
    "    timex = time.strftime(\"%a_%d_%b_%Y_%H:%M:%S\", time.gmtime())\n",
    "    dataframe.to_csv('Output/{}/classification_report_{}_{}.csv'.format(run_title,df_title,timex), index = False)\n",
    "    \n",
    "    return dataframe\n",
    "\n",
    "#report = classification_report(y_true, y_pred)"
   ]
  },
  {
   "cell_type": "markdown",
   "metadata": {},
   "source": [
    "### NB"
   ]
  },
  {
   "cell_type": "code",
   "execution_count": 53,
   "metadata": {},
   "outputs": [
    {
     "name": "stdout",
     "output_type": "stream",
     "text": [
      "Running model...\n",
      "Fetching report...\n",
      "Running model...\n",
      "Fetching report...\n",
      "Running model...\n",
      "Fetching report...\n",
      "Running model...\n"
     ]
    },
    {
     "name": "stderr",
     "output_type": "stream",
     "text": [
      "/home/silas/anaconda3/lib/python3.6/site-packages/sklearn/metrics/classification.py:1137: UndefinedMetricWarning: Recall and F-score are ill-defined and being set to 0.0 in labels with no true samples.\n",
      "  'recall', 'true', average, warn_for)\n",
      "/home/silas/anaconda3/lib/python3.6/site-packages/sklearn/metrics/classification.py:1137: UndefinedMetricWarning: Recall and F-score are ill-defined and being set to 0.0 in labels with no true samples.\n",
      "  'recall', 'true', average, warn_for)\n"
     ]
    },
    {
     "name": "stdout",
     "output_type": "stream",
     "text": [
      "Fetching report...\n",
      "Running model...\n",
      "Fetching report...\n"
     ]
    },
    {
     "name": "stderr",
     "output_type": "stream",
     "text": [
      "/home/silas/anaconda3/lib/python3.6/site-packages/sklearn/metrics/classification.py:1137: UndefinedMetricWarning: Recall and F-score are ill-defined and being set to 0.0 in labels with no true samples.\n",
      "  'recall', 'true', average, warn_for)\n"
     ]
    },
    {
     "data": {
      "image/png": "[encoded data removed]",
      "text/plain": [
       "<Figure size 288x216 with 1 Axes>"
      ]
     },
     "metadata": {},
     "output_type": "display_data"
    },
    {
     "data": {
      "image/png": "[encoded data removed]",
      "text/plain": [
       "<Figure size 288x216 with 1 Axes>"
      ]
     },
     "metadata": {},
     "output_type": "display_data"
    },
    {
     "data": {
      "image/png": "[encoded data removed]",
      "text/plain": [
       "<Figure size 288x216 with 1 Axes>"
      ]
     },
     "metadata": {},
     "output_type": "display_data"
    },
    {
     "data": {
      "image/png": "[encoded data removed]",
      "text/plain": [
       "<Figure size 288x216 with 1 Axes>"
      ]
     },
     "metadata": {},
     "output_type": "display_data"
    },
    {
     "data": {
      "image/png": "[encoded data removed]",
      "text/plain": [
       "<Figure size 288x216 with 1 Axes>"
      ]
     },
     "metadata": {},
     "output_type": "display_data"
    }
   ],
   "source": [
    "start_time = timeit.default_timer()\n",
    "\n",
    "# Naive Bayes on Count Vectors\n",
    "score1 = train_model(MultinomialNB(), xtrain_count, train_yp, xvalid_count, valid_yp)\n",
    "#print(\"NB, Count Vectors: \", score)\n",
    "\n",
    "score2 = train_model(MultinomialNB(), xtrain_count_char, train_yp, xvalid_count_char, valid_yp)\n",
    "#print(\"NB, Count Vectors Char: \", score)\n",
    "\n",
    "# Naive Bayes on Word Level TF IDF Vectors\n",
    "score3 = train_model(MultinomialNB(), xtrain_tfidf, train_yp, xvalid_tfidf, valid_yp)\n",
    "#print(\"NB, WordLevel TF-IDF: \", score)\n",
    "\n",
    "# Naive Bayes on Ngram Level TF IDF Vectors\n",
    "score4 = train_model(MultinomialNB(), xtrain_tfidf_ngram, train_yp, xvalid_tfidf_ngram, valid_yp)\n",
    "#print(\"NB, N-Gram Vectors: \", score)\n",
    "\n",
    "# Naive Bayes on Character Level TF IDF Vectors\n",
    "score5 = train_model(MultinomialNB(), xtrain_tfidf_ngram_chars, train_yp, xvalid_tfidf_ngram_chars, valid_yp)\n",
    "#print(\"NB, CharLevel Vectors: \", score)\n",
    "\n",
    "elapsed = timeit.default_timer() - start_time\n",
    "time_keeper['NB_{}'.format(run_title)]=elapsed"
   ]
  },
  {
   "cell_type": "code",
   "execution_count": 54,
   "metadata": {},
   "outputs": [
    {
     "data": {
      "text/html": [
       "<div>\n",
       "<style scoped>\n",
       "    .dataframe tbody tr th:only-of-type {\n",
       "        vertical-align: middle;\n",
       "    }\n",
       "\n",
       "    .dataframe tbody tr th {\n",
       "        vertical-align: top;\n",
       "    }\n",
       "\n",
       "    .dataframe thead th {\n",
       "        text-align: right;\n",
       "    }\n",
       "</style>\n",
       "<table border=\"1\" class=\"dataframe\">\n",
       "  <thead>\n",
       "    <tr style=\"text-align: right;\">\n",
       "      <th></th>\n",
       "      <th>class</th>\n",
       "      <th>f1_score</th>\n",
       "      <th>precision</th>\n",
       "      <th>recall</th>\n",
       "      <th>support</th>\n",
       "      <th>time_secs</th>\n",
       "    </tr>\n",
       "    <tr>\n",
       "      <th></th>\n",
       "      <th></th>\n",
       "      <th></th>\n",
       "      <th></th>\n",
       "      <th></th>\n",
       "      <th></th>\n",
       "      <th></th>\n",
       "    </tr>\n",
       "  </thead>\n",
       "  <tbody>\n",
       "    <tr>\n",
       "      <th>NB, Count Vectors:</th>\n",
       "      <td>0</td>\n",
       "      <td>0.97</td>\n",
       "      <td>0.95</td>\n",
       "      <td>0.99</td>\n",
       "      <td>1271</td>\n",
       "      <td>0.010520</td>\n",
       "    </tr>\n",
       "    <tr>\n",
       "      <th>NB, Count Vectors:</th>\n",
       "      <td>1</td>\n",
       "      <td>0.71</td>\n",
       "      <td>0.86</td>\n",
       "      <td>0.60</td>\n",
       "      <td>163</td>\n",
       "      <td>0.010520</td>\n",
       "    </tr>\n",
       "    <tr>\n",
       "      <th>NB, Count Vectors Char:</th>\n",
       "      <td>0</td>\n",
       "      <td>0.94</td>\n",
       "      <td>0.92</td>\n",
       "      <td>0.96</td>\n",
       "      <td>1267</td>\n",
       "      <td>0.002578</td>\n",
       "    </tr>\n",
       "    <tr>\n",
       "      <th>NB, Count Vectors Char:</th>\n",
       "      <td>1</td>\n",
       "      <td>0.46</td>\n",
       "      <td>0.57</td>\n",
       "      <td>0.39</td>\n",
       "      <td>167</td>\n",
       "      <td>0.002578</td>\n",
       "    </tr>\n",
       "    <tr>\n",
       "      <th>NB, WordLevel TF-IDF:</th>\n",
       "      <td>0</td>\n",
       "      <td>0.96</td>\n",
       "      <td>1.00</td>\n",
       "      <td>0.92</td>\n",
       "      <td>1434</td>\n",
       "      <td>0.006952</td>\n",
       "    </tr>\n",
       "    <tr>\n",
       "      <th>NB, WordLevel TF-IDF:</th>\n",
       "      <td>1</td>\n",
       "      <td>0.00</td>\n",
       "      <td>0.00</td>\n",
       "      <td>0.00</td>\n",
       "      <td>0</td>\n",
       "      <td>0.006952</td>\n",
       "    </tr>\n",
       "    <tr>\n",
       "      <th>NB, N-Gram Vectors:</th>\n",
       "      <td>0</td>\n",
       "      <td>0.96</td>\n",
       "      <td>1.00</td>\n",
       "      <td>0.92</td>\n",
       "      <td>1434</td>\n",
       "      <td>0.099240</td>\n",
       "    </tr>\n",
       "    <tr>\n",
       "      <th>NB, N-Gram Vectors:</th>\n",
       "      <td>1</td>\n",
       "      <td>0.00</td>\n",
       "      <td>0.00</td>\n",
       "      <td>0.00</td>\n",
       "      <td>0</td>\n",
       "      <td>0.099240</td>\n",
       "    </tr>\n",
       "    <tr>\n",
       "      <th>NB, CharLevel Vectors:</th>\n",
       "      <td>0</td>\n",
       "      <td>0.96</td>\n",
       "      <td>1.00</td>\n",
       "      <td>0.92</td>\n",
       "      <td>1434</td>\n",
       "      <td>0.117586</td>\n",
       "    </tr>\n",
       "    <tr>\n",
       "      <th>NB, CharLevel Vectors:</th>\n",
       "      <td>1</td>\n",
       "      <td>0.00</td>\n",
       "      <td>0.00</td>\n",
       "      <td>0.00</td>\n",
       "      <td>0</td>\n",
       "      <td>0.117586</td>\n",
       "    </tr>\n",
       "  </tbody>\n",
       "</table>\n",
       "</div>"
      ],
      "text/plain": [
       "                          class  f1_score  precision  recall  support  \\\n",
       "                                                                        \n",
       "NB, Count Vectors:            0      0.97       0.95    0.99     1271   \n",
       "NB, Count Vectors:            1      0.71       0.86    0.60      163   \n",
       "NB, Count Vectors Char:       0      0.94       0.92    0.96     1267   \n",
       "NB, Count Vectors Char:       1      0.46       0.57    0.39      167   \n",
       "NB, WordLevel TF-IDF:         0      0.96       1.00    0.92     1434   \n",
       "NB, WordLevel TF-IDF:         1      0.00       0.00    0.00        0   \n",
       "NB, N-Gram Vectors:           0      0.96       1.00    0.92     1434   \n",
       "NB, N-Gram Vectors:           1      0.00       0.00    0.00        0   \n",
       "NB, CharLevel Vectors:        0      0.96       1.00    0.92     1434   \n",
       "NB, CharLevel Vectors:        1      0.00       0.00    0.00        0   \n",
       "\n",
       "                          time_secs  \n",
       "                                     \n",
       "NB, Count Vectors:         0.010520  \n",
       "NB, Count Vectors:         0.010520  \n",
       "NB, Count Vectors Char:    0.002578  \n",
       "NB, Count Vectors Char:    0.002578  \n",
       "NB, WordLevel TF-IDF:      0.006952  \n",
       "NB, WordLevel TF-IDF:      0.006952  \n",
       "NB, N-Gram Vectors:        0.099240  \n",
       "NB, N-Gram Vectors:        0.099240  \n",
       "NB, CharLevel Vectors:     0.117586  \n",
       "NB, CharLevel Vectors:     0.117586  "
      ]
     },
     "execution_count": 54,
     "metadata": {},
     "output_type": "execute_result"
    }
   ],
   "source": [
    "# save joined results\n",
    "names = [\"NB, Count Vectors:\",\"NB, Count Vectors Char: \",\"NB, WordLevel TF-IDF: \",\n",
    "\"NB, N-Gram Vectors: \",\"NB, CharLevel Vectors: \"]\n",
    "df_nb = score1.append(score2).append(score3).append(score4).append(score5)\n",
    "names = list(itertools.chain.from_iterable(itertools.repeat(x, len(set(df_nb['class']))) for x in names))\n",
    "df_nb[' ']=names\n",
    "df_nb = df_nb.set_index(' ')\n",
    "time_=time.strftime(\"%a_%d_%b_%Y_%H:%M:%S\", time.gmtime())\n",
    "df_nb.to_csv('Output/{}/nb_classification_report_{}_{}.csv'.format(run_title,run_title,time_), index = False)\n",
    "df_nb"
   ]
  },
  {
   "cell_type": "markdown",
   "metadata": {},
   "source": [
    "### KNN\n"
   ]
  },
  {
   "cell_type": "code",
   "execution_count": 55,
   "metadata": {},
   "outputs": [
    {
     "name": "stdout",
     "output_type": "stream",
     "text": [
      "Running model...\n",
      "Fetching report...\n",
      "Running model...\n",
      "Fetching report...\n",
      "Running model...\n",
      "Fetching report...\n",
      "Running model...\n",
      "Fetching report...\n",
      "Running model...\n",
      "Fetching report...\n"
     ]
    },
    {
     "data": {
      "image/png": "[encoded data removed]",
      "text/plain": [
       "<Figure size 288x216 with 1 Axes>"
      ]
     },
     "metadata": {},
     "output_type": "display_data"
    },
    {
     "data": {
      "image/png": "[encoded data removed]",
      "text/plain": [
       "<Figure size 288x216 with 1 Axes>"
      ]
     },
     "metadata": {},
     "output_type": "display_data"
    },
    {
     "data": {
      "image/png": "[encoded data removed]",
      "text/plain": [
       "<Figure size 288x216 with 1 Axes>"
      ]
     },
     "metadata": {},
     "output_type": "display_data"
    },
    {
     "data": {
      "image/png": "[encoded data removed]",
      "text/plain": [
       "<Figure size 288x216 with 1 Axes>"
      ]
     },
     "metadata": {},
     "output_type": "display_data"
    },
    {
     "data": {
      "image/png": "[encoded data removed]",
      "text/plain": [
       "<Figure size 288x216 with 1 Axes>"
      ]
     },
     "metadata": {},
     "output_type": "display_data"
    }
   ],
   "source": [
    "start_time = timeit.default_timer()\n",
    "\n",
    "score1 = train_model(KNeighborsClassifier(), xtrain_count, train_yp, xvalid_count, valid_yp)\n",
    "# print(\"KNN, Count Vectors: \", score)\n",
    "\n",
    "score2 = train_model(KNeighborsClassifier(), xtrain_count_char, train_yp, xvalid_count_char, valid_yp)\n",
    "# print(\"KNN, Count Vectors Char: \", score)\n",
    "\n",
    "# Naive Bayes on Word Level TF IDF Vectors\n",
    "score3 = train_model(KNeighborsClassifier(), xtrain_tfidf, train_yp, xvalid_tfidf, valid_yp)\n",
    "# print(\"KNN, WordLevel TF-IDF: \", score)\n",
    "\n",
    "# Naive Bayes on Ngram Level TF IDF Vectors\n",
    "score4 = train_model(KNeighborsClassifier(), xtrain_tfidf_ngram, train_yp, xvalid_tfidf_ngram, valid_yp)\n",
    "# print(\"KNN, N-Gram Vectors: \", score)\n",
    "\n",
    "# Naive Bayes on Character Level TF IDF Vectors\n",
    "score5 = train_model(KNeighborsClassifier(), xtrain_tfidf_ngram_chars, train_yp, xvalid_tfidf_ngram_chars, valid_yp)\n",
    "#print(\"KNN, CharLevel Vectors: \", score)\n",
    "\n",
    "elapsed = timeit.default_timer() - start_time\n",
    "time_keeper['KNN_{}'.format(run_title)]=elapsed"
   ]
  },
  {
   "cell_type": "code",
   "execution_count": 56,
   "metadata": {},
   "outputs": [],
   "source": [
    "names=list(itertools.chain.from_iterable(itertools.repeat(x, len(set(df_nb['class']))) for x in names))"
   ]
  },
  {
   "cell_type": "code",
   "execution_count": 57,
   "metadata": {},
   "outputs": [
    {
     "data": {
      "text/html": [
       "<div>\n",
       "<style scoped>\n",
       "    .dataframe tbody tr th:only-of-type {\n",
       "        vertical-align: middle;\n",
       "    }\n",
       "\n",
       "    .dataframe tbody tr th {\n",
       "        vertical-align: top;\n",
       "    }\n",
       "\n",
       "    .dataframe thead th {\n",
       "        text-align: right;\n",
       "    }\n",
       "</style>\n",
       "<table border=\"1\" class=\"dataframe\">\n",
       "  <thead>\n",
       "    <tr style=\"text-align: right;\">\n",
       "      <th></th>\n",
       "      <th>class</th>\n",
       "      <th>f1_score</th>\n",
       "      <th>precision</th>\n",
       "      <th>recall</th>\n",
       "      <th>support</th>\n",
       "      <th>time_secs</th>\n",
       "    </tr>\n",
       "    <tr>\n",
       "      <th>Model_Vec</th>\n",
       "      <th></th>\n",
       "      <th></th>\n",
       "      <th></th>\n",
       "      <th></th>\n",
       "      <th></th>\n",
       "      <th></th>\n",
       "    </tr>\n",
       "  </thead>\n",
       "  <tbody>\n",
       "    <tr>\n",
       "      <th>KNN, Count Vectors:</th>\n",
       "      <td>0</td>\n",
       "      <td>0.97</td>\n",
       "      <td>0.99</td>\n",
       "      <td>0.96</td>\n",
       "      <td>1372</td>\n",
       "      <td>0.486375</td>\n",
       "    </tr>\n",
       "    <tr>\n",
       "      <th>KNN, Count Vectors:</th>\n",
       "      <td>1</td>\n",
       "      <td>0.60</td>\n",
       "      <td>0.46</td>\n",
       "      <td>0.85</td>\n",
       "      <td>62</td>\n",
       "      <td>0.486375</td>\n",
       "    </tr>\n",
       "    <tr>\n",
       "      <th>KNN, Count Vectors Char:</th>\n",
       "      <td>0</td>\n",
       "      <td>0.96</td>\n",
       "      <td>0.98</td>\n",
       "      <td>0.94</td>\n",
       "      <td>1374</td>\n",
       "      <td>0.589629</td>\n",
       "    </tr>\n",
       "    <tr>\n",
       "      <th>KNN, Count Vectors Char:</th>\n",
       "      <td>1</td>\n",
       "      <td>0.34</td>\n",
       "      <td>0.26</td>\n",
       "      <td>0.50</td>\n",
       "      <td>60</td>\n",
       "      <td>0.589629</td>\n",
       "    </tr>\n",
       "    <tr>\n",
       "      <th>KNN, WordLevel TF-IDF:</th>\n",
       "      <td>0</td>\n",
       "      <td>0.99</td>\n",
       "      <td>0.99</td>\n",
       "      <td>0.98</td>\n",
       "      <td>1338</td>\n",
       "      <td>0.485787</td>\n",
       "    </tr>\n",
       "    <tr>\n",
       "      <th>KNN, WordLevel TF-IDF:</th>\n",
       "      <td>1</td>\n",
       "      <td>0.82</td>\n",
       "      <td>0.75</td>\n",
       "      <td>0.90</td>\n",
       "      <td>96</td>\n",
       "      <td>0.485787</td>\n",
       "    </tr>\n",
       "    <tr>\n",
       "      <th>KNN, N-Gram Vectors:</th>\n",
       "      <td>0</td>\n",
       "      <td>0.98</td>\n",
       "      <td>0.99</td>\n",
       "      <td>0.98</td>\n",
       "      <td>1328</td>\n",
       "      <td>0.254771</td>\n",
       "    </tr>\n",
       "    <tr>\n",
       "      <th>KNN, N-Gram Vectors:</th>\n",
       "      <td>1</td>\n",
       "      <td>0.81</td>\n",
       "      <td>0.78</td>\n",
       "      <td>0.84</td>\n",
       "      <td>106</td>\n",
       "      <td>0.254771</td>\n",
       "    </tr>\n",
       "    <tr>\n",
       "      <th>KNN, CharLevel Vectors:</th>\n",
       "      <td>0</td>\n",
       "      <td>0.98</td>\n",
       "      <td>0.99</td>\n",
       "      <td>0.98</td>\n",
       "      <td>1328</td>\n",
       "      <td>0.243399</td>\n",
       "    </tr>\n",
       "    <tr>\n",
       "      <th>KNN, CharLevel Vectors:</th>\n",
       "      <td>1</td>\n",
       "      <td>0.81</td>\n",
       "      <td>0.78</td>\n",
       "      <td>0.84</td>\n",
       "      <td>106</td>\n",
       "      <td>0.243399</td>\n",
       "    </tr>\n",
       "  </tbody>\n",
       "</table>\n",
       "</div>"
      ],
      "text/plain": [
       "                           class  f1_score  precision  recall  support  \\\n",
       "Model_Vec                                                                \n",
       "KNN, Count Vectors:            0      0.97       0.99    0.96     1372   \n",
       "KNN, Count Vectors:            1      0.60       0.46    0.85       62   \n",
       "KNN, Count Vectors Char:       0      0.96       0.98    0.94     1374   \n",
       "KNN, Count Vectors Char:       1      0.34       0.26    0.50       60   \n",
       "KNN, WordLevel TF-IDF:         0      0.99       0.99    0.98     1338   \n",
       "KNN, WordLevel TF-IDF:         1      0.82       0.75    0.90       96   \n",
       "KNN, N-Gram Vectors:           0      0.98       0.99    0.98     1328   \n",
       "KNN, N-Gram Vectors:           1      0.81       0.78    0.84      106   \n",
       "KNN, CharLevel Vectors:        0      0.98       0.99    0.98     1328   \n",
       "KNN, CharLevel Vectors:        1      0.81       0.78    0.84      106   \n",
       "\n",
       "                           time_secs  \n",
       "Model_Vec                             \n",
       "KNN, Count Vectors:         0.486375  \n",
       "KNN, Count Vectors:         0.486375  \n",
       "KNN, Count Vectors Char:    0.589629  \n",
       "KNN, Count Vectors Char:    0.589629  \n",
       "KNN, WordLevel TF-IDF:      0.485787  \n",
       "KNN, WordLevel TF-IDF:      0.485787  \n",
       "KNN, N-Gram Vectors:        0.254771  \n",
       "KNN, N-Gram Vectors:        0.254771  \n",
       "KNN, CharLevel Vectors:     0.243399  \n",
       "KNN, CharLevel Vectors:     0.243399  "
      ]
     },
     "execution_count": 57,
     "metadata": {},
     "output_type": "execute_result"
    }
   ],
   "source": [
    "# save joined results\n",
    "names = [\"KNN, Count Vectors:\",\"KNN, Count Vectors Char: \",\"KNN, WordLevel TF-IDF: \",\"KNN, N-Gram Vectors: \",\"KNN, CharLevel Vectors: \"]\n",
    "df_knn = score1.append(score2).append(score3).append(score4).append(score5)\n",
    "names=list(itertools.chain.from_iterable(itertools.repeat(x, len(set(df_knn['class']))) for x in names))\n",
    "df_knn['Model_Vec']=names\n",
    "df_knn = df_knn.set_index('Model_Vec')\n",
    "time_=time.strftime(\"%a_%d_%b_%Y_%H:%M:%S\", time.gmtime())\n",
    "df_knn.to_csv('Output/{}/knn_classification_report_{}_knn_{}.csv'.format(run_title,run_title,time_))\n",
    "df_knn"
   ]
  },
  {
   "cell_type": "markdown",
   "metadata": {},
   "source": [
    "### SVM"
   ]
  },
  {
   "cell_type": "code",
   "execution_count": 58,
   "metadata": {},
   "outputs": [
    {
     "name": "stdout",
     "output_type": "stream",
     "text": [
      "Running model...\n",
      "Fetching report...\n",
      "Running model...\n"
     ]
    },
    {
     "name": "stderr",
     "output_type": "stream",
     "text": [
      "/home/silas/anaconda3/lib/python3.6/site-packages/sklearn/metrics/classification.py:1137: UndefinedMetricWarning: Recall and F-score are ill-defined and being set to 0.0 in labels with no true samples.\n",
      "  'recall', 'true', average, warn_for)\n"
     ]
    },
    {
     "name": "stdout",
     "output_type": "stream",
     "text": [
      "Fetching report...\n",
      "Running model...\n"
     ]
    },
    {
     "name": "stderr",
     "output_type": "stream",
     "text": [
      "/home/silas/anaconda3/lib/python3.6/site-packages/sklearn/metrics/classification.py:1137: UndefinedMetricWarning: Recall and F-score are ill-defined and being set to 0.0 in labels with no true samples.\n",
      "  'recall', 'true', average, warn_for)\n"
     ]
    },
    {
     "name": "stdout",
     "output_type": "stream",
     "text": [
      "Fetching report...\n",
      "Running model...\n"
     ]
    },
    {
     "name": "stderr",
     "output_type": "stream",
     "text": [
      "/home/silas/anaconda3/lib/python3.6/site-packages/sklearn/metrics/classification.py:1137: UndefinedMetricWarning: Recall and F-score are ill-defined and being set to 0.0 in labels with no true samples.\n",
      "  'recall', 'true', average, warn_for)\n"
     ]
    },
    {
     "name": "stdout",
     "output_type": "stream",
     "text": [
      "Fetching report...\n",
      "Running model...\n"
     ]
    },
    {
     "name": "stderr",
     "output_type": "stream",
     "text": [
      "/home/silas/anaconda3/lib/python3.6/site-packages/sklearn/metrics/classification.py:1137: UndefinedMetricWarning: Recall and F-score are ill-defined and being set to 0.0 in labels with no true samples.\n",
      "  'recall', 'true', average, warn_for)\n"
     ]
    },
    {
     "name": "stdout",
     "output_type": "stream",
     "text": [
      "Fetching report...\n"
     ]
    },
    {
     "name": "stderr",
     "output_type": "stream",
     "text": [
      "/home/silas/anaconda3/lib/python3.6/site-packages/sklearn/metrics/classification.py:1137: UndefinedMetricWarning: Recall and F-score are ill-defined and being set to 0.0 in labels with no true samples.\n",
      "  'recall', 'true', average, warn_for)\n"
     ]
    },
    {
     "data": {
      "image/png": "[encoded data removed]",
      "text/plain": [
       "<Figure size 288x216 with 1 Axes>"
      ]
     },
     "metadata": {},
     "output_type": "display_data"
    },
    {
     "data": {
      "image/png": "[encoded data removed]",
      "text/plain": [
       "<Figure size 288x216 with 1 Axes>"
      ]
     },
     "metadata": {},
     "output_type": "display_data"
    },
    {
     "data": {
      "image/png": "[encoded data removed]",
      "text/plain": [
       "<Figure size 288x216 with 1 Axes>"
      ]
     },
     "metadata": {},
     "output_type": "display_data"
    },
    {
     "data": {
      "image/png": "[encoded data removed]",
      "text/plain": [
       "<Figure size 288x216 with 1 Axes>"
      ]
     },
     "metadata": {},
     "output_type": "display_data"
    },
    {
     "data": {
      "image/png": "[encoded data removed]",
      "text/plain": [
       "<Figure size 288x216 with 1 Axes>"
      ]
     },
     "metadata": {},
     "output_type": "display_data"
    }
   ],
   "source": [
    "# SVM N-Gram Chars on TF IDF Vectors\n",
    "\n",
    "start_time = timeit.default_timer()\n",
    "\n",
    "score1 = train_model(SVC(), xtrain_count, train_yp, xvalid_count, valid_yp)\n",
    "# print(\"SVM, Count Vectors: \", score)\n",
    "\n",
    "score2 = train_model(SVC(), xtrain_count_char, train_yp, xvalid_count_char, valid_yp)\n",
    "# print(\"SVM, Count Vectors Char: \", score)\n",
    "\n",
    "# SVM on Word Level TF IDF Vectors\n",
    "score3 = train_model(SVC(), xtrain_tfidf, train_yp, xvalid_tfidf, valid_yp)\n",
    "# print(\"SVM, WordLevel TF-IDF: \", score)\n",
    "\n",
    "# SVM on Ngram Level TF IDF Vectors\n",
    "score4 = train_model(SVC(), xtrain_tfidf_ngram, train_yp, xvalid_tfidf_ngram, valid_yp)\n",
    "# print(\"SVM, N-Gram Vectors: \", score)\n",
    "\n",
    "# SVM on Character Level TF IDF Vectors\n",
    "score5 = train_model(SVC(), xtrain_tfidf_ngram_chars, train_yp, xvalid_tfidf_ngram_chars, valid_yp)\n",
    "#print(\"SVM, CharLevel Vectors: \", score)\n",
    "\n",
    "\n",
    "elapsed = timeit.default_timer() - start_time\n",
    "\n",
    "\n",
    "elapsed = timeit.default_timer() - start_time\n",
    "time_keeper['SVM_{}'.format(run_title)]=elapsed"
   ]
  },
  {
   "cell_type": "code",
   "execution_count": 59,
   "metadata": {},
   "outputs": [
    {
     "data": {
      "text/html": [
       "<div>\n",
       "<style scoped>\n",
       "    .dataframe tbody tr th:only-of-type {\n",
       "        vertical-align: middle;\n",
       "    }\n",
       "\n",
       "    .dataframe tbody tr th {\n",
       "        vertical-align: top;\n",
       "    }\n",
       "\n",
       "    .dataframe thead th {\n",
       "        text-align: right;\n",
       "    }\n",
       "</style>\n",
       "<table border=\"1\" class=\"dataframe\">\n",
       "  <thead>\n",
       "    <tr style=\"text-align: right;\">\n",
       "      <th></th>\n",
       "      <th>class</th>\n",
       "      <th>f1_score</th>\n",
       "      <th>precision</th>\n",
       "      <th>recall</th>\n",
       "      <th>support</th>\n",
       "      <th>time_secs</th>\n",
       "    </tr>\n",
       "    <tr>\n",
       "      <th>Model_Vec</th>\n",
       "      <th></th>\n",
       "      <th></th>\n",
       "      <th></th>\n",
       "      <th></th>\n",
       "      <th></th>\n",
       "      <th></th>\n",
       "    </tr>\n",
       "  </thead>\n",
       "  <tbody>\n",
       "    <tr>\n",
       "      <th>SVM, Count Vectors:</th>\n",
       "      <td>0</td>\n",
       "      <td>0.96</td>\n",
       "      <td>1.0</td>\n",
       "      <td>0.92</td>\n",
       "      <td>1434</td>\n",
       "      <td>3.265441</td>\n",
       "    </tr>\n",
       "    <tr>\n",
       "      <th>SVM, Count Vectors:</th>\n",
       "      <td>1</td>\n",
       "      <td>0.00</td>\n",
       "      <td>0.0</td>\n",
       "      <td>0.00</td>\n",
       "      <td>0</td>\n",
       "      <td>3.265441</td>\n",
       "    </tr>\n",
       "    <tr>\n",
       "      <th>SVM, Count Vectors Char:</th>\n",
       "      <td>0</td>\n",
       "      <td>0.96</td>\n",
       "      <td>1.0</td>\n",
       "      <td>0.92</td>\n",
       "      <td>1434</td>\n",
       "      <td>2.398869</td>\n",
       "    </tr>\n",
       "    <tr>\n",
       "      <th>SVM, Count Vectors Char:</th>\n",
       "      <td>1</td>\n",
       "      <td>0.00</td>\n",
       "      <td>0.0</td>\n",
       "      <td>0.00</td>\n",
       "      <td>0</td>\n",
       "      <td>2.398869</td>\n",
       "    </tr>\n",
       "    <tr>\n",
       "      <th>SVM, WordLevel TF-IDF:</th>\n",
       "      <td>0</td>\n",
       "      <td>0.96</td>\n",
       "      <td>1.0</td>\n",
       "      <td>0.92</td>\n",
       "      <td>1434</td>\n",
       "      <td>3.004987</td>\n",
       "    </tr>\n",
       "    <tr>\n",
       "      <th>SVM, WordLevel TF-IDF:</th>\n",
       "      <td>1</td>\n",
       "      <td>0.00</td>\n",
       "      <td>0.0</td>\n",
       "      <td>0.00</td>\n",
       "      <td>0</td>\n",
       "      <td>3.004987</td>\n",
       "    </tr>\n",
       "    <tr>\n",
       "      <th>SVM, N-Gram Vectors:</th>\n",
       "      <td>0</td>\n",
       "      <td>0.96</td>\n",
       "      <td>1.0</td>\n",
       "      <td>0.92</td>\n",
       "      <td>1434</td>\n",
       "      <td>1.655333</td>\n",
       "    </tr>\n",
       "    <tr>\n",
       "      <th>SVM, N-Gram Vectors:</th>\n",
       "      <td>1</td>\n",
       "      <td>0.00</td>\n",
       "      <td>0.0</td>\n",
       "      <td>0.00</td>\n",
       "      <td>0</td>\n",
       "      <td>1.655333</td>\n",
       "    </tr>\n",
       "    <tr>\n",
       "      <th>SVM, CharLevel Vectors:</th>\n",
       "      <td>0</td>\n",
       "      <td>0.96</td>\n",
       "      <td>1.0</td>\n",
       "      <td>0.92</td>\n",
       "      <td>1434</td>\n",
       "      <td>1.653553</td>\n",
       "    </tr>\n",
       "    <tr>\n",
       "      <th>SVM, CharLevel Vectors:</th>\n",
       "      <td>1</td>\n",
       "      <td>0.00</td>\n",
       "      <td>0.0</td>\n",
       "      <td>0.00</td>\n",
       "      <td>0</td>\n",
       "      <td>1.653553</td>\n",
       "    </tr>\n",
       "  </tbody>\n",
       "</table>\n",
       "</div>"
      ],
      "text/plain": [
       "                           class  f1_score  precision  recall  support  \\\n",
       "Model_Vec                                                                \n",
       "SVM, Count Vectors:            0      0.96        1.0    0.92     1434   \n",
       "SVM, Count Vectors:            1      0.00        0.0    0.00        0   \n",
       "SVM, Count Vectors Char:       0      0.96        1.0    0.92     1434   \n",
       "SVM, Count Vectors Char:       1      0.00        0.0    0.00        0   \n",
       "SVM, WordLevel TF-IDF:         0      0.96        1.0    0.92     1434   \n",
       "SVM, WordLevel TF-IDF:         1      0.00        0.0    0.00        0   \n",
       "SVM, N-Gram Vectors:           0      0.96        1.0    0.92     1434   \n",
       "SVM, N-Gram Vectors:           1      0.00        0.0    0.00        0   \n",
       "SVM, CharLevel Vectors:        0      0.96        1.0    0.92     1434   \n",
       "SVM, CharLevel Vectors:        1      0.00        0.0    0.00        0   \n",
       "\n",
       "                           time_secs  \n",
       "Model_Vec                             \n",
       "SVM, Count Vectors:         3.265441  \n",
       "SVM, Count Vectors:         3.265441  \n",
       "SVM, Count Vectors Char:    2.398869  \n",
       "SVM, Count Vectors Char:    2.398869  \n",
       "SVM, WordLevel TF-IDF:      3.004987  \n",
       "SVM, WordLevel TF-IDF:      3.004987  \n",
       "SVM, N-Gram Vectors:        1.655333  \n",
       "SVM, N-Gram Vectors:        1.655333  \n",
       "SVM, CharLevel Vectors:     1.653553  \n",
       "SVM, CharLevel Vectors:     1.653553  "
      ]
     },
     "execution_count": 59,
     "metadata": {},
     "output_type": "execute_result"
    }
   ],
   "source": [
    "# save joined results\n",
    "names = [\"SVM, Count Vectors:\",\"SVM, Count Vectors Char: \",\n",
    "\"SVM, WordLevel TF-IDF: \",\"SVM, N-Gram Vectors: \",\"SVM, CharLevel Vectors: \"]\n",
    "df_svm = score1.append(score2).append(score3).append(score4).append(score5)\n",
    "names=list(itertools.chain.from_iterable(itertools.repeat(x, len(set(df_knn['class']))) for x in names))\n",
    "df_svm['Model_Vec']=names\n",
    "df_svm = df_svm.set_index('Model_Vec')\n",
    "time_=time.strftime(\"%a_%d_%b_%Y_%H:%M:%S\", time.gmtime())\n",
    "df_svm.to_csv('Output/{}/svm_classification_report_{}_svm_{}.csv'.format(run_title,run_title, time_))\n",
    "df_svm"
   ]
  },
  {
   "cell_type": "markdown",
   "metadata": {},
   "source": [
    "#### SVM experiments"
   ]
  },
  {
   "cell_type": "markdown",
   "metadata": {},
   "source": [
    "#### SVM grid search cv"
   ]
  },
  {
   "cell_type": "code",
   "execution_count": 60,
   "metadata": {},
   "outputs": [
    {
     "name": "stdout",
     "output_type": "stream",
     "text": [
      "Fitting 5 folds for each of 2 candidates, totalling 10 fits\n"
     ]
    },
    {
     "name": "stderr",
     "output_type": "stream",
     "text": [
      "[Parallel(n_jobs=-1)]: Done  10 out of  10 | elapsed:   22.0s finished\n"
     ]
    },
    {
     "name": "stdout",
     "output_type": "stream",
     "text": [
      "0 params - {'vect__ngram_range': (1, 1)}; mean - 0.99; std - 0.00\n",
      "1 params - {'vect__ngram_range': (1, 2)}; mean - 0.99; std - 0.00\n"
     ]
    },
    {
     "data": {
      "image/png": "[encoded data removed]",
      "text/plain": [
       "<Figure size 288x216 with 1 Axes>"
      ]
     },
     "metadata": {},
     "output_type": "display_data"
    }
   ],
   "source": [
    "start_time = timeit.default_timer()\n",
    "\n",
    "#\n",
    "from sklearn.svm import LinearSVC\n",
    "\n",
    "pipeline = Pipeline([\n",
    "        ('vect', TfidfVectorizer(min_df=3, max_df=0.95)),\n",
    "        ('clf', LinearSVC(C=1000)),\n",
    "    ])\n",
    "\n",
    "# TASK: Build a grid search to find out whether unigrams or bigrams are\n",
    "# more useful.\n",
    "# Fit the pipeline on the training set using grid search for the parameters\n",
    "parameters = {\n",
    "    'vect__ngram_range': [(1, 1), (1, 2)],\n",
    "}\n",
    "kfolds = StratifiedKFold(n_splits=5, shuffle=True, random_state=1)\n",
    "grid_search = GridSearchCV(pipeline, parameters, n_jobs=-1, cv=kfolds,verbose=1)\n",
    "grid_search.fit(train_xp, train_yp)\n",
    "\n",
    "# TASK: print the mean and std for each candidate along with the parameter\n",
    "# settings for all the candidates explored by grid search.\n",
    "n_candidates = len(grid_search.cv_results_['params'])\n",
    "for i in range(n_candidates):\n",
    "    print(i, 'params - %s; mean - %0.2f; std - %0.2f'\n",
    "             % (grid_search.cv_results_['params'][i],\n",
    "                grid_search.cv_results_['mean_test_score'][i],\n",
    "                grid_search.cv_results_['std_test_score'][i]))\n",
    "\n",
    "y_predicted = grid_search.predict(valid_xp)\n",
    "\n",
    "# Print the classification report\n",
    "report = classification_report(valid_yp, y_predicted)\n",
    "\n",
    "# Print and plot the confusion matrix\n",
    "plot_confusion_matrix(valid_yp, y_predicted)\n",
    "\n",
    "df_svc = classification_report_out(report,run_title)\n",
    "\n",
    "# df_svc['Model_Vec']=names\n",
    "# df_svc = df_svm.set_index('Model_Vec')\n",
    "# df_svc.to_csv('classification_report_climate_reuters_svc.csv')\n",
    "elapsed = timeit.default_timer() - start_time\n",
    "time_keeper['SVC_exp.2.grid_{}'.format(run_title)]=elapsed"
   ]
  },
  {
   "cell_type": "code",
   "execution_count": 61,
   "metadata": {},
   "outputs": [
    {
     "name": "stdout",
     "output_type": "stream",
     "text": [
      "Fitting 5 folds for each of 3 candidates, totalling 15 fits\n"
     ]
    },
    {
     "name": "stderr",
     "output_type": "stream",
     "text": [
      "[Parallel(n_jobs=-1)]: Done  15 out of  15 | elapsed:  6.8min finished\n"
     ]
    },
    {
     "name": "stdout",
     "output_type": "stream",
     "text": [
      "             precision    recall  f1-score   support\n",
      "\n",
      "          0       0.99      1.00      0.99      1317\n",
      "          1       0.94      0.85      0.90       117\n",
      "\n",
      "avg / total       0.98      0.98      0.98      1434\n",
      "\n"
     ]
    },
    {
     "data": {
      "image/png": "[encoded data removed]",
      "text/plain": [
       "<Figure size 288x216 with 1 Axes>"
      ]
     },
     "metadata": {},
     "output_type": "display_data"
    }
   ],
   "source": [
    "# en_stopwords = set(stopwords.words(\"english\")) \n",
    "from text_processing import tokenizer\n",
    "from nltk.corpus import stopwords\n",
    "\n",
    "vectorizer = CountVectorizer(\n",
    "    analyzer = 'word',\n",
    "    tokenizer = tokenizer,\n",
    "    lowercase = True,\n",
    "    ngram_range=(1, 1),\n",
    "    stop_words = stopwords.words('english'))\n",
    "\n",
    "kfolds = StratifiedKFold(n_splits=5, shuffle=True, random_state=1)\n",
    "\n",
    "pipeline_svm = make_pipeline(vectorizer, \n",
    "                            SVC(probability=True, kernel=\"linear\", class_weight=\"balanced\"))\n",
    "\n",
    "\n",
    "grid_svm = GridSearchCV(pipeline_svm,\n",
    "                    param_grid = {'svc__C': [0.01, 0.1, 1]}, \n",
    "                    cv = kfolds,\n",
    "                    scoring=\"roc_auc\",\n",
    "                    verbose=1,   \n",
    "                    n_jobs=-1) \n",
    "\n",
    "grid_svm.fit(train_x, train_y)\n",
    "grid_svm.score(valid_x, valid_y)\n",
    "\n",
    "\n",
    "predictions_svm_ = grid_svm.predict(valid_x)\n",
    "cm = confusion_matrix(valid_y, predictions_svm_)\n",
    "print(classification_report(valid_y,predictions_svm_))\n",
    "plot_confusion_matrix(valid_y, predictions_svm_)"
   ]
  },
  {
   "cell_type": "code",
   "execution_count": null,
   "metadata": {},
   "outputs": [],
   "source": [
    "# inspect errors\n",
    "# error_df = pd.DataFrame({'val_text':valid_x, 'val_true':valid_y, 'val_pred':predictions_svm_})\n",
    "# error_df[(error_df['val_pred']!=error_df['val_true'])].sample(10)"
   ]
  },
  {
   "cell_type": "markdown",
   "metadata": {},
   "source": [
    "### Logistic Regression"
   ]
  },
  {
   "cell_type": "code",
   "execution_count": 62,
   "metadata": {},
   "outputs": [
    {
     "name": "stdout",
     "output_type": "stream",
     "text": [
      "Running model...\n",
      "Fetching report...\n",
      "Running model...\n",
      "Fetching report...\n",
      "Running model...\n",
      "Fetching report...\n",
      "Running model...\n",
      "Fetching report...\n"
     ]
    },
    {
     "data": {
      "image/png": "[encoded data removed]",
      "text/plain": [
       "<Figure size 288x216 with 1 Axes>"
      ]
     },
     "metadata": {},
     "output_type": "display_data"
    },
    {
     "data": {
      "image/png": "[encoded data removed]",
      "text/plain": [
       "<Figure size 288x216 with 1 Axes>"
      ]
     },
     "metadata": {},
     "output_type": "display_data"
    },
    {
     "data": {
      "image/png": "[encoded data removed]",
      "text/plain": [
       "<Figure size 288x216 with 1 Axes>"
      ]
     },
     "metadata": {},
     "output_type": "display_data"
    },
    {
     "data": {
      "image/png": "[encoded data removed]",
      "text/plain": [
       "<Figure size 288x216 with 1 Axes>"
      ]
     },
     "metadata": {},
     "output_type": "display_data"
    }
   ],
   "source": [
    "start_time = timeit.default_timer()\n",
    "\n",
    "# Logistic Regression on Count Vectors\n",
    "score1 = train_model(LogisticRegression(), xtrain_count, train_yp, xvalid_count, valid_yp)\n",
    "#print(\"LR, Count Vectors: \", accuracy)\n",
    "\n",
    "# Logistic Regression on Word Level TF IDF Vectors\n",
    "score2 = train_model(LogisticRegression(), xtrain_tfidf, train_yp, xvalid_tfidf, valid_yp)\n",
    "#print(\"LR, WordLevel TF-IDF: \", accuracy)\n",
    "\n",
    "# Logistic Regression on Ngram Level TF IDF Vectors\n",
    "score3 = train_model(LogisticRegression(), xtrain_tfidf_ngram, train_yp, xvalid_tfidf_ngram, valid_yp)\n",
    "#print(\"LR, N-Gram Vectors: \", accuracy)\n",
    "\n",
    "# Logistic Regression on Character Level TF IDF Vectors\n",
    "score4 = train_model(LogisticRegression(), xtrain_tfidf_ngram_chars, train_yp, xvalid_tfidf_ngram_chars, valid_yp)\n",
    "#print(\"LR, CharLevel Vectors: \", accuracy)\n",
    "\n",
    "elapsed = timeit.default_timer() - start_time\n",
    "time_keeper['Logistic_Regression_{}'.format(run_title)]=elapsed"
   ]
  },
  {
   "cell_type": "code",
   "execution_count": 63,
   "metadata": {},
   "outputs": [
    {
     "data": {
      "text/html": [
       "<div>\n",
       "<style scoped>\n",
       "    .dataframe tbody tr th:only-of-type {\n",
       "        vertical-align: middle;\n",
       "    }\n",
       "\n",
       "    .dataframe tbody tr th {\n",
       "        vertical-align: top;\n",
       "    }\n",
       "\n",
       "    .dataframe thead th {\n",
       "        text-align: right;\n",
       "    }\n",
       "</style>\n",
       "<table border=\"1\" class=\"dataframe\">\n",
       "  <thead>\n",
       "    <tr style=\"text-align: right;\">\n",
       "      <th></th>\n",
       "      <th>class</th>\n",
       "      <th>f1_score</th>\n",
       "      <th>precision</th>\n",
       "      <th>recall</th>\n",
       "      <th>support</th>\n",
       "      <th>time_secs</th>\n",
       "    </tr>\n",
       "    <tr>\n",
       "      <th>Model_Vec</th>\n",
       "      <th></th>\n",
       "      <th></th>\n",
       "      <th></th>\n",
       "      <th></th>\n",
       "      <th></th>\n",
       "      <th></th>\n",
       "    </tr>\n",
       "  </thead>\n",
       "  <tbody>\n",
       "    <tr>\n",
       "      <th>LRM, Count Vectors:</th>\n",
       "      <td>0</td>\n",
       "      <td>0.99</td>\n",
       "      <td>0.99</td>\n",
       "      <td>0.99</td>\n",
       "      <td>1330</td>\n",
       "      <td>0.499917</td>\n",
       "    </tr>\n",
       "    <tr>\n",
       "      <th>LRM, Count Vectors:</th>\n",
       "      <td>1</td>\n",
       "      <td>0.89</td>\n",
       "      <td>0.85</td>\n",
       "      <td>0.93</td>\n",
       "      <td>104</td>\n",
       "      <td>0.499917</td>\n",
       "    </tr>\n",
       "    <tr>\n",
       "      <th>LRM, WordLevel TF-IDF:</th>\n",
       "      <td>0</td>\n",
       "      <td>0.98</td>\n",
       "      <td>1.00</td>\n",
       "      <td>0.97</td>\n",
       "      <td>1363</td>\n",
       "      <td>0.062570</td>\n",
       "    </tr>\n",
       "    <tr>\n",
       "      <th>LRM, WordLevel TF-IDF:</th>\n",
       "      <td>1</td>\n",
       "      <td>0.75</td>\n",
       "      <td>0.61</td>\n",
       "      <td>0.97</td>\n",
       "      <td>71</td>\n",
       "      <td>0.062570</td>\n",
       "    </tr>\n",
       "    <tr>\n",
       "      <th>LRM, N-Gram Vectors:</th>\n",
       "      <td>0</td>\n",
       "      <td>0.96</td>\n",
       "      <td>1.00</td>\n",
       "      <td>0.92</td>\n",
       "      <td>1428</td>\n",
       "      <td>0.719680</td>\n",
       "    </tr>\n",
       "    <tr>\n",
       "      <th>LRM, N-Gram Vectors:</th>\n",
       "      <td>1</td>\n",
       "      <td>0.10</td>\n",
       "      <td>0.05</td>\n",
       "      <td>1.00</td>\n",
       "      <td>6</td>\n",
       "      <td>0.719680</td>\n",
       "    </tr>\n",
       "    <tr>\n",
       "      <th>LRM, CharLevel Vectors:</th>\n",
       "      <td>0</td>\n",
       "      <td>0.96</td>\n",
       "      <td>1.00</td>\n",
       "      <td>0.92</td>\n",
       "      <td>1428</td>\n",
       "      <td>0.689084</td>\n",
       "    </tr>\n",
       "    <tr>\n",
       "      <th>LRM, CharLevel Vectors:</th>\n",
       "      <td>1</td>\n",
       "      <td>0.10</td>\n",
       "      <td>0.05</td>\n",
       "      <td>1.00</td>\n",
       "      <td>6</td>\n",
       "      <td>0.689084</td>\n",
       "    </tr>\n",
       "  </tbody>\n",
       "</table>\n",
       "</div>"
      ],
      "text/plain": [
       "                          class  f1_score  precision  recall  support  \\\n",
       "Model_Vec                                                               \n",
       "LRM, Count Vectors:           0      0.99       0.99    0.99     1330   \n",
       "LRM, Count Vectors:           1      0.89       0.85    0.93      104   \n",
       "LRM, WordLevel TF-IDF:        0      0.98       1.00    0.97     1363   \n",
       "LRM, WordLevel TF-IDF:        1      0.75       0.61    0.97       71   \n",
       "LRM, N-Gram Vectors:          0      0.96       1.00    0.92     1428   \n",
       "LRM, N-Gram Vectors:          1      0.10       0.05    1.00        6   \n",
       "LRM, CharLevel Vectors:       0      0.96       1.00    0.92     1428   \n",
       "LRM, CharLevel Vectors:       1      0.10       0.05    1.00        6   \n",
       "\n",
       "                          time_secs  \n",
       "Model_Vec                            \n",
       "LRM, Count Vectors:        0.499917  \n",
       "LRM, Count Vectors:        0.499917  \n",
       "LRM, WordLevel TF-IDF:     0.062570  \n",
       "LRM, WordLevel TF-IDF:     0.062570  \n",
       "LRM, N-Gram Vectors:       0.719680  \n",
       "LRM, N-Gram Vectors:       0.719680  \n",
       "LRM, CharLevel Vectors:    0.689084  \n",
       "LRM, CharLevel Vectors:    0.689084  "
      ]
     },
     "execution_count": 63,
     "metadata": {},
     "output_type": "execute_result"
    }
   ],
   "source": [
    "# save joined results\n",
    "names = [\"LRM, Count Vectors:\", \"LRM, WordLevel TF-IDF: \",\"LRM, N-Gram Vectors: \",\"LRM, CharLevel Vectors: \"]\n",
    "df_LRM = score1.append(score2).append(score3).append(score4)\n",
    "names=list(itertools.chain.from_iterable(itertools.repeat(x, len(set(df_LRM['class']))) for x in names))\n",
    "df_LRM['Model_Vec']=names\n",
    "df_LRM = df_LRM.set_index('Model_Vec')\n",
    "time_=time.strftime(\"%a_%d_%b_%Y_%H:%M:%S\", time.gmtime())\n",
    "df_LRM.to_csv('Output/{}/LRM_classification_report_{}_{}.csv'.format(run_title,run_title,time_))\n",
    "df_LRM"
   ]
  },
  {
   "cell_type": "markdown",
   "metadata": {},
   "source": [
    "### Random Forest"
   ]
  },
  {
   "cell_type": "code",
   "execution_count": 64,
   "metadata": {},
   "outputs": [
    {
     "name": "stdout",
     "output_type": "stream",
     "text": [
      "Running model...\n",
      "Fetching report...\n",
      "Running model...\n",
      "Fetching report...\n",
      "Running model...\n",
      "Fetching report...\n",
      "Running model...\n",
      "Fetching report...\n"
     ]
    },
    {
     "data": {
      "image/png": "[encoded data removed]",
      "text/plain": [
       "<Figure size 288x216 with 1 Axes>"
      ]
     },
     "metadata": {},
     "output_type": "display_data"
    },
    {
     "data": {
      "image/png": "[encoded data removed]",
      "text/plain": [
       "<Figure size 288x216 with 1 Axes>"
      ]
     },
     "metadata": {},
     "output_type": "display_data"
    },
    {
     "data": {
      "image/png": "[encoded data removed]",
      "text/plain": [
       "<Figure size 288x216 with 1 Axes>"
      ]
     },
     "metadata": {},
     "output_type": "display_data"
    },
    {
     "data": {
      "image/png": "[encoded data removed]",
      "text/plain": [
       "<Figure size 288x216 with 1 Axes>"
      ]
     },
     "metadata": {},
     "output_type": "display_data"
    }
   ],
   "source": [
    "start_time = timeit.default_timer()\n",
    "\n",
    "# Random Forest Classifier on Count Vectors\n",
    "score1 = train_model(ensemble.RandomForestClassifier(), xtrain_count, train_yp, xvalid_count, valid_yp)\n",
    "#print(\"RF, Count Vectors: \", accuracy)\n",
    "\n",
    "# Random Forest Classifier on Word Level TF IDF Vectors\n",
    "score2 = train_model(ensemble.RandomForestClassifier(), xtrain_tfidf, train_yp, xvalid_tfidf, valid_yp)\n",
    "#print(\"RF, WordLevel TF-IDF: \", accuracy)\n",
    "\n",
    "# Random Forest Classifier on Ngram Level TF IDF Vectors\n",
    "score3 = train_model(ensemble.RandomForestClassifier(), xtrain_tfidf_ngram, train_yp, xvalid_tfidf_ngram, valid_yp)\n",
    "#print(\"RF, N-Gram Vectors: \", accuracy)\n",
    "\n",
    "# Random Forest Classifier on Character Level TF IDF Vectors\n",
    "score4 = train_model(ensemble.RandomForestClassifier(), xtrain_tfidf_ngram_chars, train_yp, xvalid_tfidf_ngram_chars, valid_yp)\n",
    "#print(\"RF, CharLevel Vectors: \", accuracy)\n",
    "\n",
    "elapsed = timeit.default_timer() - start_time\n",
    "time_keeper['Random_Forest_{}'.format(run_title)]=elapsed"
   ]
  },
  {
   "cell_type": "code",
   "execution_count": 65,
   "metadata": {},
   "outputs": [
    {
     "data": {
      "text/html": [
       "<div>\n",
       "<style scoped>\n",
       "    .dataframe tbody tr th:only-of-type {\n",
       "        vertical-align: middle;\n",
       "    }\n",
       "\n",
       "    .dataframe tbody tr th {\n",
       "        vertical-align: top;\n",
       "    }\n",
       "\n",
       "    .dataframe thead th {\n",
       "        text-align: right;\n",
       "    }\n",
       "</style>\n",
       "<table border=\"1\" class=\"dataframe\">\n",
       "  <thead>\n",
       "    <tr style=\"text-align: right;\">\n",
       "      <th></th>\n",
       "      <th>class</th>\n",
       "      <th>f1_score</th>\n",
       "      <th>precision</th>\n",
       "      <th>recall</th>\n",
       "      <th>support</th>\n",
       "      <th>time_secs</th>\n",
       "    </tr>\n",
       "    <tr>\n",
       "      <th>Model_Vec</th>\n",
       "      <th></th>\n",
       "      <th></th>\n",
       "      <th></th>\n",
       "      <th></th>\n",
       "      <th></th>\n",
       "      <th></th>\n",
       "    </tr>\n",
       "  </thead>\n",
       "  <tbody>\n",
       "    <tr>\n",
       "      <th>RF, Count Vectors:</th>\n",
       "      <td>0</td>\n",
       "      <td>0.97</td>\n",
       "      <td>1.00</td>\n",
       "      <td>0.95</td>\n",
       "      <td>1387</td>\n",
       "      <td>0.411941</td>\n",
       "    </tr>\n",
       "    <tr>\n",
       "      <th>RF, Count Vectors:</th>\n",
       "      <td>1</td>\n",
       "      <td>0.53</td>\n",
       "      <td>0.38</td>\n",
       "      <td>0.91</td>\n",
       "      <td>47</td>\n",
       "      <td>0.411941</td>\n",
       "    </tr>\n",
       "    <tr>\n",
       "      <th>RF, WordLevel TF-IDF:</th>\n",
       "      <td>0</td>\n",
       "      <td>0.97</td>\n",
       "      <td>1.00</td>\n",
       "      <td>0.95</td>\n",
       "      <td>1380</td>\n",
       "      <td>0.446880</td>\n",
       "    </tr>\n",
       "    <tr>\n",
       "      <th>RF, WordLevel TF-IDF:</th>\n",
       "      <td>1</td>\n",
       "      <td>0.60</td>\n",
       "      <td>0.44</td>\n",
       "      <td>0.93</td>\n",
       "      <td>54</td>\n",
       "      <td>0.446880</td>\n",
       "    </tr>\n",
       "    <tr>\n",
       "      <th>RF, N-Gram Vectors:</th>\n",
       "      <td>0</td>\n",
       "      <td>0.97</td>\n",
       "      <td>1.00</td>\n",
       "      <td>0.94</td>\n",
       "      <td>1402</td>\n",
       "      <td>5.964291</td>\n",
       "    </tr>\n",
       "    <tr>\n",
       "      <th>RF, N-Gram Vectors:</th>\n",
       "      <td>1</td>\n",
       "      <td>0.42</td>\n",
       "      <td>0.27</td>\n",
       "      <td>0.97</td>\n",
       "      <td>32</td>\n",
       "      <td>5.964291</td>\n",
       "    </tr>\n",
       "    <tr>\n",
       "      <th>RF, CharLevel Vectors:</th>\n",
       "      <td>0</td>\n",
       "      <td>0.97</td>\n",
       "      <td>1.00</td>\n",
       "      <td>0.95</td>\n",
       "      <td>1395</td>\n",
       "      <td>5.288934</td>\n",
       "    </tr>\n",
       "    <tr>\n",
       "      <th>RF, CharLevel Vectors:</th>\n",
       "      <td>1</td>\n",
       "      <td>0.50</td>\n",
       "      <td>0.33</td>\n",
       "      <td>0.97</td>\n",
       "      <td>39</td>\n",
       "      <td>5.288934</td>\n",
       "    </tr>\n",
       "  </tbody>\n",
       "</table>\n",
       "</div>"
      ],
      "text/plain": [
       "                         class  f1_score  precision  recall  support  \\\n",
       "Model_Vec                                                              \n",
       "RF, Count Vectors:           0      0.97       1.00    0.95     1387   \n",
       "RF, Count Vectors:           1      0.53       0.38    0.91       47   \n",
       "RF, WordLevel TF-IDF:        0      0.97       1.00    0.95     1380   \n",
       "RF, WordLevel TF-IDF:        1      0.60       0.44    0.93       54   \n",
       "RF, N-Gram Vectors:          0      0.97       1.00    0.94     1402   \n",
       "RF, N-Gram Vectors:          1      0.42       0.27    0.97       32   \n",
       "RF, CharLevel Vectors:       0      0.97       1.00    0.95     1395   \n",
       "RF, CharLevel Vectors:       1      0.50       0.33    0.97       39   \n",
       "\n",
       "                         time_secs  \n",
       "Model_Vec                           \n",
       "RF, Count Vectors:        0.411941  \n",
       "RF, Count Vectors:        0.411941  \n",
       "RF, WordLevel TF-IDF:     0.446880  \n",
       "RF, WordLevel TF-IDF:     0.446880  \n",
       "RF, N-Gram Vectors:       5.964291  \n",
       "RF, N-Gram Vectors:       5.964291  \n",
       "RF, CharLevel Vectors:    5.288934  \n",
       "RF, CharLevel Vectors:    5.288934  "
      ]
     },
     "execution_count": 65,
     "metadata": {},
     "output_type": "execute_result"
    }
   ],
   "source": [
    "# save joined results\n",
    "names = [\"RF, Count Vectors:\",\"RF, WordLevel TF-IDF: \",\"RF, N-Gram Vectors: \",\"RF, CharLevel Vectors: \"]\n",
    "df_RF = score1.append(score2).append(score3).append(score4)\n",
    "names=list(itertools.chain.from_iterable(itertools.repeat(x, len(set(df_RF['class']))) for x in names))\n",
    "df_RF['Model_Vec']=names\n",
    "df_RF = df_RF.set_index('Model_Vec')\n",
    "time_=time.strftime(\"%a_%d_%b_%Y_%H:%M:%S\", time.gmtime())\n",
    "df_RF.to_csv('Output/{}/RF_classification_report_{}.csv'.format(run_title,run_title,time_))\n",
    "df_RF"
   ]
  },
  {
   "cell_type": "code",
   "execution_count": 66,
   "metadata": {},
   "outputs": [],
   "source": [
    "df_tk=pd.DataFrame.from_dict(time_keeper, orient='index', columns=['total_test_time_secs'])"
   ]
  },
  {
   "cell_type": "code",
   "execution_count": 67,
   "metadata": {},
   "outputs": [],
   "source": [
    "df_tk.to_csv('Output/{}/{}_merged_run_times.csv'.format(run_title,run_title))"
   ]
  },
  {
   "cell_type": "markdown",
   "metadata": {},
   "source": [
    "### Word Embeddings"
   ]
  },
  {
   "cell_type": "code",
   "execution_count": 13,
   "metadata": {},
   "outputs": [],
   "source": [
    "from keras.preprocessing import text, sequence\n",
    "\n",
    "# load the pre-trained word-embedding vectors \n",
    "embeddings_index = {}\n",
    "for i, line in enumerate(open('../Data/wiki-news-300d-1M.vec')):\n",
    "    values = line.split()\n",
    "    embeddings_index[values[0]] = np.asarray(values[1:], dtype='float32')\n",
    "\n",
    "# create a tokenizer in keras\n",
    "token = text.Tokenizer()\n",
    "token.fit_on_texts(texts)\n",
    "word_index = token.word_index\n",
    "\n",
    "# convert text to sequence of tokens and pad them to ensure equal length vectors \n",
    "train_seq_x = sequence.pad_sequences(token.texts_to_sequences(train_x), maxlen=70)\n",
    "valid_seq_x = sequence.pad_sequences(token.texts_to_sequences(valid_x), maxlen=70)\n",
    "\n",
    "# create token-embedding mapping\n",
    "embedding_matrix = np.zeros((len(word_index) + 1, 300))\n",
    "for word, i in word_index.items():\n",
    "    embedding_vector = embeddings_index.get(word)\n",
    "    if embedding_vector is not None:\n",
    "        embedding_matrix[i] = embedding_vector"
   ]
  },
  {
   "cell_type": "markdown",
   "metadata": {},
   "source": [
    "### Keras"
   ]
  },
  {
   "cell_type": "code",
   "execution_count": 14,
   "metadata": {},
   "outputs": [],
   "source": [
    "from keras.preprocessing import text, sequence\n",
    "from keras import layers, models, optimizers"
   ]
  },
  {
   "cell_type": "markdown",
   "metadata": {},
   "source": [
    "### NN"
   ]
  },
  {
   "cell_type": "code",
   "execution_count": 24,
   "metadata": {},
   "outputs": [
    {
     "name": "stdout",
     "output_type": "stream",
     "text": [
      "Running model...\n",
      "Epoch 1/1\n",
      "3666/3666 [==============================] - 3s 683us/step - loss: 0.3856\n",
      "Fetching report...\n",
      "Running model...\n"
     ]
    },
    {
     "name": "stderr",
     "output_type": "stream",
     "text": [
      "/home/silas/anaconda3/lib/python3.6/site-packages/sklearn/metrics/classification.py:1137: UndefinedMetricWarning: Recall and F-score are ill-defined and being set to 0.0 in labels with no true samples.\n",
      "  'recall', 'true', average, warn_for)\n"
     ]
    },
    {
     "name": "stdout",
     "output_type": "stream",
     "text": [
      "Epoch 1/1\n",
      "3666/3666 [==============================] - 2s 671us/step - loss: 0.4589\n",
      "Fetching report...\n",
      "Running model...\n"
     ]
    },
    {
     "name": "stderr",
     "output_type": "stream",
     "text": [
      "/home/silas/anaconda3/lib/python3.6/site-packages/sklearn/metrics/classification.py:1137: UndefinedMetricWarning: Recall and F-score are ill-defined and being set to 0.0 in labels with no true samples.\n",
      "  'recall', 'true', average, warn_for)\n"
     ]
    },
    {
     "name": "stdout",
     "output_type": "stream",
     "text": [
      "Epoch 1/1\n",
      "3666/3666 [==============================] - 27s 7ms/step - loss: 0.5049\n",
      "Fetching report...\n",
      "Running model...\n"
     ]
    },
    {
     "name": "stderr",
     "output_type": "stream",
     "text": [
      "/home/silas/anaconda3/lib/python3.6/site-packages/sklearn/metrics/classification.py:1137: UndefinedMetricWarning: Recall and F-score are ill-defined and being set to 0.0 in labels with no true samples.\n",
      "  'recall', 'true', average, warn_for)\n"
     ]
    },
    {
     "name": "stdout",
     "output_type": "stream",
     "text": [
      "Epoch 1/1\n",
      "3666/3666 [==============================] - 20s 5ms/step - loss: 0.5349\n",
      "Fetching report...\n"
     ]
    },
    {
     "name": "stderr",
     "output_type": "stream",
     "text": [
      "/home/silas/anaconda3/lib/python3.6/site-packages/sklearn/metrics/classification.py:1137: UndefinedMetricWarning: Recall and F-score are ill-defined and being set to 0.0 in labels with no true samples.\n",
      "  'recall', 'true', average, warn_for)\n"
     ]
    },
    {
     "data": {
      "image/png": "[encoded data removed]",
      "text/plain": [
       "<Figure size 288x216 with 1 Axes>"
      ]
     },
     "metadata": {},
     "output_type": "display_data"
    },
    {
     "data": {
      "image/png": "[encoded data removed]",
      "text/plain": [
       "<Figure size 288x216 with 1 Axes>"
      ]
     },
     "metadata": {},
     "output_type": "display_data"
    },
    {
     "data": {
      "image/png": "[encoded data removed]",
      "text/plain": [
       "<Figure size 288x216 with 1 Axes>"
      ]
     },
     "metadata": {},
     "output_type": "display_data"
    },
    {
     "data": {
      "image/png": "[encoded data removed]",
      "text/plain": [
       "<Figure size 288x216 with 1 Axes>"
      ]
     },
     "metadata": {},
     "output_type": "display_data"
    }
   ],
   "source": [
    "start_time = timeit.default_timer()\n",
    "\n",
    "def create_model_architecture(input_size):\n",
    "    # create input layer \n",
    "    input_layer = layers.Input((input_size, ), sparse=True)\n",
    "    \n",
    "    # create hidden layer\n",
    "    hidden_layer = layers.Dense(100, activation=\"relu\")(input_layer)\n",
    "    \n",
    "    # create output layer\n",
    "    output_layer = layers.Dense(1, activation=\"sigmoid\")(hidden_layer)\n",
    "\n",
    "    classifier = models.Model(inputs = input_layer, outputs = output_layer)\n",
    "    classifier.compile(optimizer=optimizers.Adam(), loss='binary_crossentropy')\n",
    "    return classifier \n",
    "\n",
    "#classifier = create_model_architecture(xtrain_tfidf_ngram.shape[1])\n",
    "# score1 = train_model(classifier, xtrain_tfidf_ngram, train_y, xvalid_tfidf_ngram,valid_y, is_neural_net=True)\n",
    "\n",
    "# Neural net on Count Vectors\n",
    "classifier = create_model_architecture(xtrain_count.shape[1])\n",
    "score1 = train_model(classifier, xtrain_count, train_yp, xvalid_count, valid_yp, is_neural_net=True)\n",
    "\n",
    "# Neural net on Word Level TF IDF Vectors\n",
    "classifier = create_model_architecture(xtrain_tfidf.shape[1])\n",
    "score2 = train_model(classifier, xtrain_tfidf, train_yp, xvalid_tfidf, valid_yp, is_neural_net=True)\n",
    "#print(\"RF, WordLevel TF-IDF: \", accuracy)\n",
    "\n",
    "# Neural net on Ngram Level TF IDF Vectors\n",
    "classifier = create_model_architecture(xtrain_tfidf_ngram.shape[1])\n",
    "score3 = train_model(classifier, xtrain_tfidf_ngram, train_yp, xvalid_tfidf_ngram, valid_yp, is_neural_net=True)\n",
    "#print(\"RF, N-Gram Vectors: \", accuracy)\n",
    "\n",
    "# Neural net on Character Level TF IDF Vectors\n",
    "classifier = create_model_architecture(xtrain_tfidf_ngram_chars.shape[1])\n",
    "score4 = train_model(classifier, xtrain_tfidf_ngram_chars, train_yp, xvalid_tfidf_ngram_chars, valid_yp, is_neural_net=True)\n",
    "#print(\"RF, CharLevel Vectors: \", accuracy)\n",
    "\n",
    "elapsed = timeit.default_timer() - start_time\n",
    "time_keeper['Neural_Net_{}'.format(run_title)]=elapsed"
   ]
  },
  {
   "cell_type": "code",
   "execution_count": 23,
   "metadata": {},
   "outputs": [
    {
     "data": {
      "text/html": [
       "<div>\n",
       "<style scoped>\n",
       "    .dataframe tbody tr th:only-of-type {\n",
       "        vertical-align: middle;\n",
       "    }\n",
       "\n",
       "    .dataframe tbody tr th {\n",
       "        vertical-align: top;\n",
       "    }\n",
       "\n",
       "    .dataframe thead th {\n",
       "        text-align: right;\n",
       "    }\n",
       "</style>\n",
       "<table border=\"1\" class=\"dataframe\">\n",
       "  <thead>\n",
       "    <tr style=\"text-align: right;\">\n",
       "      <th></th>\n",
       "      <th>class</th>\n",
       "      <th>f1_score</th>\n",
       "      <th>precision</th>\n",
       "      <th>recall</th>\n",
       "      <th>support</th>\n",
       "      <th>time_secs</th>\n",
       "    </tr>\n",
       "    <tr>\n",
       "      <th>Model_Vec</th>\n",
       "      <th></th>\n",
       "      <th></th>\n",
       "      <th></th>\n",
       "      <th></th>\n",
       "      <th></th>\n",
       "      <th></th>\n",
       "    </tr>\n",
       "  </thead>\n",
       "  <tbody>\n",
       "    <tr>\n",
       "      <th>NN, Count Vectors:</th>\n",
       "      <td>0</td>\n",
       "      <td>0.94</td>\n",
       "      <td>1.0</td>\n",
       "      <td>0.88</td>\n",
       "      <td>1223</td>\n",
       "      <td>2.512203</td>\n",
       "    </tr>\n",
       "    <tr>\n",
       "      <th>NN, Count Vectors:</th>\n",
       "      <td>1</td>\n",
       "      <td>0.00</td>\n",
       "      <td>0.0</td>\n",
       "      <td>0.00</td>\n",
       "      <td>0</td>\n",
       "      <td>2.512203</td>\n",
       "    </tr>\n",
       "    <tr>\n",
       "      <th>NN, WordLevel TF-IDF:</th>\n",
       "      <td>0</td>\n",
       "      <td>0.94</td>\n",
       "      <td>1.0</td>\n",
       "      <td>0.88</td>\n",
       "      <td>1223</td>\n",
       "      <td>2.868228</td>\n",
       "    </tr>\n",
       "    <tr>\n",
       "      <th>NN, WordLevel TF-IDF:</th>\n",
       "      <td>1</td>\n",
       "      <td>0.00</td>\n",
       "      <td>0.0</td>\n",
       "      <td>0.00</td>\n",
       "      <td>0</td>\n",
       "      <td>2.868228</td>\n",
       "    </tr>\n",
       "    <tr>\n",
       "      <th>NN, N-Gram Vectors:</th>\n",
       "      <td>0</td>\n",
       "      <td>0.94</td>\n",
       "      <td>1.0</td>\n",
       "      <td>0.88</td>\n",
       "      <td>1223</td>\n",
       "      <td>26.274170</td>\n",
       "    </tr>\n",
       "    <tr>\n",
       "      <th>NN, N-Gram Vectors:</th>\n",
       "      <td>1</td>\n",
       "      <td>0.00</td>\n",
       "      <td>0.0</td>\n",
       "      <td>0.00</td>\n",
       "      <td>0</td>\n",
       "      <td>26.274170</td>\n",
       "    </tr>\n",
       "    <tr>\n",
       "      <th>NN, CharLevel Vectors:</th>\n",
       "      <td>0</td>\n",
       "      <td>0.94</td>\n",
       "      <td>1.0</td>\n",
       "      <td>0.88</td>\n",
       "      <td>1223</td>\n",
       "      <td>27.377312</td>\n",
       "    </tr>\n",
       "    <tr>\n",
       "      <th>NN, CharLevel Vectors:</th>\n",
       "      <td>1</td>\n",
       "      <td>0.00</td>\n",
       "      <td>0.0</td>\n",
       "      <td>0.00</td>\n",
       "      <td>0</td>\n",
       "      <td>27.377312</td>\n",
       "    </tr>\n",
       "  </tbody>\n",
       "</table>\n",
       "</div>"
      ],
      "text/plain": [
       "                         class  f1_score  precision  recall  support  \\\n",
       "Model_Vec                                                              \n",
       "NN, Count Vectors:           0      0.94        1.0    0.88     1223   \n",
       "NN, Count Vectors:           1      0.00        0.0    0.00        0   \n",
       "NN, WordLevel TF-IDF:        0      0.94        1.0    0.88     1223   \n",
       "NN, WordLevel TF-IDF:        1      0.00        0.0    0.00        0   \n",
       "NN, N-Gram Vectors:          0      0.94        1.0    0.88     1223   \n",
       "NN, N-Gram Vectors:          1      0.00        0.0    0.00        0   \n",
       "NN, CharLevel Vectors:       0      0.94        1.0    0.88     1223   \n",
       "NN, CharLevel Vectors:       1      0.00        0.0    0.00        0   \n",
       "\n",
       "                         time_secs  \n",
       "Model_Vec                           \n",
       "NN, Count Vectors:        2.512203  \n",
       "NN, Count Vectors:        2.512203  \n",
       "NN, WordLevel TF-IDF:     2.868228  \n",
       "NN, WordLevel TF-IDF:     2.868228  \n",
       "NN, N-Gram Vectors:      26.274170  \n",
       "NN, N-Gram Vectors:      26.274170  \n",
       "NN, CharLevel Vectors:   27.377312  \n",
       "NN, CharLevel Vectors:   27.377312  "
      ]
     },
     "execution_count": 23,
     "metadata": {},
     "output_type": "execute_result"
    }
   ],
   "source": [
    "# save joined results\n",
    "names = [\"NN, Count Vectors:\",\"NN, WordLevel TF-IDF: \",\"NN, N-Gram Vectors: \",\"NN, CharLevel Vectors: \"]\n",
    "df_NN = score1.append(score2).append(score3).append(score4)\n",
    "names=list(itertools.chain.from_iterable(itertools.repeat(x, len(set(df_NN['class']))) for x in names))\n",
    "df_NN['Model_Vec']=names\n",
    "df_NN = df_NN.set_index('Model_Vec')\n",
    "time_=time.strftime(\"%a_%d_%b_%Y_%H:%M:%S\", time.gmtime())\n",
    "df_NN.to_csv('Output/{}/NN_classification_report_{}.csv'.format(run_title,run_title,time_))\n",
    "df_NN"
   ]
  },
  {
   "cell_type": "markdown",
   "metadata": {},
   "source": [
    "###  CNN"
   ]
  },
  {
   "cell_type": "code",
   "execution_count": 28,
   "metadata": {},
   "outputs": [
    {
     "name": "stdout",
     "output_type": "stream",
     "text": [
      "Running model...\n",
      "Epoch 1/1\n",
      "3666/3666 [==============================] - 10s 3ms/step - loss: 0.2522\n",
      "Fetching report...\n",
      "CNN, Word Embeddings    class  f1_score  precision  recall  support  time_secs\n",
      "0      0      0.94        1.0    0.88     1223  11.901431\n",
      "1      1      0.00        0.0    0.00        0  11.901431\n"
     ]
    },
    {
     "name": "stderr",
     "output_type": "stream",
     "text": [
      "/home/silas/anaconda3/lib/python3.6/site-packages/sklearn/metrics/classification.py:1137: UndefinedMetricWarning: Recall and F-score are ill-defined and being set to 0.0 in labels with no true samples.\n",
      "  'recall', 'true', average, warn_for)\n"
     ]
    },
    {
     "data": {
      "image/png": "[encoded data removed]",
      "text/plain": [
       "<Figure size 288x216 with 1 Axes>"
      ]
     },
     "metadata": {},
     "output_type": "display_data"
    }
   ],
   "source": [
    "def create_cnn():\n",
    "    # Add an Input Layer\n",
    "    input_layer = layers.Input((70, ))\n",
    "\n",
    "    # Add the word embedding Layer\n",
    "    embedding_layer = layers.Embedding(len(word_index) + 1, 300, weights=[embedding_matrix], trainable=False)(input_layer)\n",
    "    embedding_layer = layers.SpatialDropout1D(0.3)(embedding_layer)\n",
    "\n",
    "    # Add the convolutional Layer\n",
    "    conv_layer = layers.Convolution1D(100, 3, activation=\"relu\")(embedding_layer)\n",
    "\n",
    "    # Add the pooling Layer\n",
    "    pooling_layer = layers.GlobalMaxPool1D()(conv_layer)\n",
    "\n",
    "    # Add the output Layers\n",
    "    output_layer1 = layers.Dense(50, activation=\"relu\")(pooling_layer)\n",
    "    output_layer1 = layers.Dropout(0.25)(output_layer1)\n",
    "    output_layer2 = layers.Dense(1, activation=\"sigmoid\")(output_layer1)\n",
    "\n",
    "    # Compile the model\n",
    "    model = models.Model(inputs=input_layer, outputs=output_layer2)\n",
    "    model.compile(optimizer=optimizers.Adam(), loss='binary_crossentropy')\n",
    "    \n",
    "    return model\n",
    "\n",
    "classifier = create_cnn()\n",
    "score1 = train_model(classifier, train_seq_x, train_y, valid_seq_x, valid_y, is_neural_net=True)\n",
    "print(\"CNN, Word Embeddings\",  score1)\n",
    "\n"
   ]
  },
  {
   "cell_type": "code",
   "execution_count": null,
   "metadata": {},
   "outputs": [],
   "source": [
    "names = [\"CNN\"]\n",
    "df_RF = score1\n",
    "names=list(itertools.chain.from_iterable(itertools.repeat(x, len(set(valid_y))) for x in names))\n",
    "df_RF['Model_Vec']=names\n",
    "df_RF = df_RF.set_index('Model_Vec')\n",
    "time_=time.strftime(\"%a_%d_%b_%Y_%H:%M:%S\", time.gmtime())\n",
    "df_RF.to_csv('Output/{}/CNN_classification_report_{}.csv'.format(run_title,run_title,time_))\n",
    "df_RF"
   ]
  },
  {
   "cell_type": "markdown",
   "metadata": {},
   "source": [
    "### LSTM"
   ]
  },
  {
   "cell_type": "code",
   "execution_count": null,
   "metadata": {},
   "outputs": [],
   "source": [
    "def create_rnn_lstm():\n",
    "    # Add an Input Layer\n",
    "    input_layer = layers.Input((70, ))\n",
    "\n",
    "    # Add the word embedding Layer\n",
    "    embedding_layer = layers.Embedding(len(word_index) + 1, 300, weights=[embedding_matrix], trainable=False)(input_layer)\n",
    "    embedding_layer = layers.SpatialDropout1D(0.3)(embedding_layer)\n",
    "\n",
    "    # Add the LSTM Layer\n",
    "    lstm_layer = layers.LSTM(100)(embedding_layer)\n",
    "\n",
    "    # Add the output Layers\n",
    "    output_layer1 = layers.Dense(50, activation=\"relu\")(lstm_layer)\n",
    "    output_layer1 = layers.Dropout(0.25)(output_layer1)\n",
    "    output_layer2 = layers.Dense(1, activation=\"sigmoid\")(output_layer1)\n",
    "\n",
    "    # Compile the model\n",
    "    model = models.Model(inputs=input_layer, outputs=output_layer2)\n",
    "    model.compile(optimizer=optimizers.Adam(), loss='binary_crossentropy')\n",
    "    \n",
    "    return model\n",
    "\n",
    "classifier = create_rnn_lstm()\n",
    "accuracy = train_model(classifier, train_seq_x, train_y, valid_seq_x, is_neural_net=True)\n",
    "print(\"RNN-LSTM, Word Embeddings\",  accuracy)"
   ]
  },
  {
   "cell_type": "markdown",
   "metadata": {},
   "source": [
    "### Bidirectional RNN"
   ]
  },
  {
   "cell_type": "code",
   "execution_count": null,
   "metadata": {},
   "outputs": [],
   "source": [
    "def create_bidirectional_rnn():\n",
    "# Add an Input Layer\n",
    "    input_layer = layers.Input((70, ))\n",
    "\n",
    "    # Add the word embedding Layer\n",
    "    embedding_layer = layers.Embedding(len(word_index) + 1, 300, weights=[embedding_matrix], trainable=False)(input_layer)\n",
    "    embedding_layer = layers.SpatialDropout1D(0.3)(embedding_layer)\n",
    "\n",
    "    # Add the LSTM Layer\n",
    "    lstm_layer = layers.Bidirectional(layers.GRU(100))(embedding_layer)\n",
    "\n",
    "    # Add the output Layers\n",
    "    output_layer1 = layers.Dense(50, activation=\"relu\")(lstm_layer)\n",
    "    output_layer1 = layers.Dropout(0.25)(output_layer1)\n",
    "    output_layer2 = layers.Dense(1, activation=\"sigmoid\")(output_layer1)\n",
    "\n",
    "    # Compile the model\n",
    "    model = models.Model(inputs=input_layer, outputs=output_layer2)\n",
    "    model.compile(optimizer=optimizers.Adam(), loss='binary_crossentropy')\n",
    "    \n",
    "    return model\n",
    "\n",
    "classifier = create_bidirectional_rnn()\n",
    "accuracy = train_model(classifier, train_seq_x, train_y, valid_seq_x, is_neural_net=True)\n",
    "print(\"RNN-Bidirectional, Word Embeddings\",  accuracy)"
   ]
  },
  {
   "cell_type": "markdown",
   "metadata": {},
   "source": [
    "### RCNN"
   ]
  },
  {
   "cell_type": "code",
   "execution_count": null,
   "metadata": {},
   "outputs": [],
   "source": [
    "def create_rcnn():\n",
    "    # Add an Input Layer\n",
    "    input_layer = layers.Input((70, ))\n",
    "\n",
    "    # Add the word embedding Layer\n",
    "    embedding_layer = layers.Embedding(len(word_index) + 1, 300, weights=[embedding_matrix], trainable=False)(input_layer)\n",
    "    embedding_layer = layers.SpatialDropout1D(0.3)(embedding_layer)\n",
    "    \n",
    "    # Add the recurrent layer\n",
    "    rnn_layer = layers.Bidirectional(layers.GRU(50, return_sequences=True))(embedding_layer)\n",
    "    \n",
    "    # Add the convolutional Layer\n",
    "    conv_layer = layers.Convolution1D(100, 3, activation=\"relu\")(embedding_layer)\n",
    "\n",
    "    # Add the pooling Layer\n",
    "    pooling_layer = layers.GlobalMaxPool1D()(conv_layer)\n",
    "\n",
    "    # Add the output Layers\n",
    "    output_layer1 = layers.Dense(50, activation=\"relu\")(pooling_layer)\n",
    "    output_layer1 = layers.Dropout(0.25)(output_layer1)\n",
    "    output_layer2 = layers.Dense(1, activation=\"sigmoid\")(output_layer1)\n",
    "\n",
    "    # Compile the model\n",
    "    model = models.Model(inputs=input_layer, outputs=output_layer2)\n",
    "    model.compile(optimizer=optimizers.Adam(), loss='binary_crossentropy')\n",
    "    \n",
    "    return model\n",
    "\n",
    "classifier = create_rcnn()\n",
    "accuracy = train_model(classifier, train_seq_x, train_y, valid_seq_x, is_neural_net=True)\n",
    "print(\"CNN, Word Embeddings\",  accuracy)"
   ]
  },
  {
   "cell_type": "markdown",
   "metadata": {},
   "source": [
    "## Tensorflow - Logistic Regression"
   ]
  },
  {
   "cell_type": "code",
   "execution_count": null,
   "metadata": {},
   "outputs": [],
   "source": [
    "# Start a graph session\n",
    "sess = tf.Session()\n",
    "\n",
    "batch_size = 200\n",
    "max_features = 1000"
   ]
  },
  {
   "cell_type": "code",
   "execution_count": null,
   "metadata": {},
   "outputs": [],
   "source": [
    "# Split up data set into train/test\n",
    "train_indices = np.random.choice(sparse_tfidf_texts.shape[0], round(0.8*sparse_tfidf_texts.shape[0]), replace=False)\n",
    "test_indices = np.array(list(set(range(sparse_tfidf_texts.shape[0])) - set(train_indices)))\n",
    "texts_train = sparse_tfidf_texts[train_indices]\n",
    "texts_test = sparse_tfidf_texts[test_indices]\n",
    "target_train = np.array([x for ix, x in enumerate(labels) if ix in train_indices])\n",
    "target_test = np.array([x for ix, x in enumerate(labels) if ix in test_indices])"
   ]
  },
  {
   "cell_type": "code",
   "execution_count": null,
   "metadata": {},
   "outputs": [],
   "source": [
    "# Create variables for logistic regression\n",
    "A = tf.Variable(tf.random_normal(shape=[max_features,1]))\n",
    "b = tf.Variable(tf.random_normal(shape=[1,1]))\n",
    "\n",
    "# Initialize placeholders\n",
    "x_data = tf.placeholder(shape=[None, max_features], dtype=tf.float32)\n",
    "y_target = tf.placeholder(shape=[None, 1], dtype=tf.float32)\n",
    "\n",
    "# Declare logistic model (sigmoid in loss function)\n",
    "model_output = tf.add(tf.matmul(x_data, A), b)\n",
    "\n",
    "# Declare loss function (Cross Entropy loss)\n",
    "loss = tf.reduce_mean(tf.nn.sigmoid_cross_entropy_with_logits(logits=model_output, labels=y_target))\n",
    "\n",
    "# Actual Prediction\n",
    "prediction = tf.round(tf.sigmoid(model_output))\n",
    "predictions_correct = tf.cast(tf.equal(prediction, y_target), tf.float32)\n",
    "accuracy = tf.reduce_mean(predictions_correct)\n",
    "\n",
    "# Declare optimizer\n",
    "my_opt = tf.train.GradientDescentOptimizer(0.0025)\n",
    "train_step = my_opt.minimize(loss)\n",
    "\n",
    "# Intitialize Variables\n",
    "init = tf.global_variables_initializer()\n",
    "sess.run(init)\n",
    "\n",
    "# Start Logistic Regression\n",
    "train_loss = []\n",
    "test_loss = []\n",
    "train_acc = []\n",
    "test_acc = []\n",
    "i_data = []\n",
    "for i in range(10000):\n",
    "    rand_index = np.random.choice(texts_train.shape[0], size=batch_size)\n",
    "    rand_x = texts_train[rand_index].todense()\n",
    "    rand_y = np.transpose([target_train[rand_index]])\n",
    "    sess.run(train_step, feed_dict={x_data: rand_x, y_target: rand_y})\n",
    "    \n",
    "    # Only record loss and accuracy every 100 generations\n",
    "    if (i+1)%100==0:\n",
    "        i_data.append(i+1)\n",
    "        train_loss_temp = sess.run(loss, feed_dict={x_data: rand_x, y_target: rand_y})\n",
    "        train_loss.append(train_loss_temp)\n",
    "        \n",
    "        test_loss_temp = sess.run(loss, feed_dict={x_data: texts_test.todense(), y_target: np.transpose([target_test])})\n",
    "        test_loss.append(test_loss_temp)\n",
    "        \n",
    "        train_acc_temp = sess.run(accuracy, feed_dict={x_data: rand_x, y_target: rand_y})\n",
    "        train_acc.append(train_acc_temp)\n",
    "    \n",
    "        test_acc_temp = sess.run(accuracy, feed_dict={x_data: texts_test.todense(), y_target: np.transpose([target_test])})\n",
    "        test_acc.append(test_acc_temp)\n",
    "    if (i+1)%500==0:\n",
    "        acc_and_loss = [i+1, train_loss_temp, test_loss_temp, train_acc_temp, test_acc_temp]\n",
    "        acc_and_loss = [np.round(x,2) for x in acc_and_loss]\n",
    "        print('Generation # {}. Train Loss (Test Loss): {:.2f} ({:.2f}). Train Acc (Test Acc): {:.2f} ({:.2f})'.format(*acc_and_loss))\n",
    "\n",
    "\n",
    "# Plot loss over time\n",
    "plt.plot(i_data, train_loss, 'k-', label='Train Loss')\n",
    "plt.plot(i_data, test_loss, 'r--', label='Test Loss', linewidth=4)\n",
    "plt.title('Cross Entropy Loss per Generation')\n",
    "plt.xlabel('Generation')\n",
    "plt.ylabel('Cross Entropy Loss')\n",
    "plt.legend(loc='upper right')\n",
    "plt.show()\n",
    "\n",
    "# Plot train and test accuracy\n",
    "plt.plot(i_data, train_acc, 'k-', label='Train Set Accuracy')\n",
    "plt.plot(i_data, test_acc, 'r--', label='Test Set Accuracy', linewidth=4)\n",
    "plt.title('Train and Test Accuracy')\n",
    "plt.xlabel('Generation')\n",
    "plt.ylabel('Accuracy')\n",
    "plt.legend(loc='lower right')\n",
    "plt.show()"
   ]
  },
  {
   "cell_type": "markdown",
   "metadata": {},
   "source": [
    "## COMPARISON\n",
    "- https://machinelearningmastery.com/compare-machine-learning-algorithms-python-scikit-learn/"
   ]
  },
  {
   "cell_type": "code",
   "execution_count": null,
   "metadata": {},
   "outputs": [],
   "source": [
    "# Compare Algorithms\n",
    "import pandas\n",
    "import matplotlib.pyplot as plt\n",
    "from sklearn import model_selection\n",
    "from sklearn.linear_model import LogisticRegression\n",
    "from sklearn.tree import DecisionTreeClassifier\n",
    "from sklearn.neighbors import KNeighborsClassifier\n",
    "from sklearn.discriminant_analysis import LinearDiscriminantAnalysis\n",
    "from sklearn.naive_bayes import GaussianNB\n",
    "from sklearn.svm import SVC\n",
    "# load dataset\n",
    "'''\n",
    "url = \"https://raw.githubusercontent.com/jbrownlee/Datasets/master/pima-indians-diabetes.data.csv\"\n",
    "names = ['preg', 'plas', 'pres', 'skin', 'test', 'mass', 'pedi', 'age', 'class']\n",
    "dataframe = pandas.read_csv(url, names=names)\n",
    "array = dataframe.values\n",
    "X = array[:,0:8]\n",
    "Y = train_y\n",
    "'''\n",
    "X = NLP_DF\n",
    "Y = train_y\n",
    "# prepare configuration for cross validation test harness\n",
    "seed = 7\n",
    "# prepare models\n",
    "models = []\n",
    "models.append(('LR', LogisticRegression()))\n",
    "models.append(('LDA', LinearDiscriminantAnalysis()))\n",
    "models.append(('KNN', KNeighborsClassifier()))\n",
    "models.append(('CART', DecisionTreeClassifier()))\n",
    "models.append(('NB', GaussianNB()))\n",
    "models.append(('SVM', SVC()))\n",
    "# evaluate each model in turn\n",
    "results = []\n",
    "names = []\n",
    "scoring = 'accuracy'\n",
    "for name, model in models:\n",
    "\tkfold = model_selection.KFold(n_splits=10, random_state=seed)\n",
    "\tcv_results = model_selection.cross_val_score(model, X, Y, cv=kfold, scoring=scoring)\n",
    "\tresults.append(cv_results)\n",
    "\tnames.append(name)\n",
    "\tmsg = \"%s: %f (%f)\" % (name, cv_results.mean(), cv_results.std())\n",
    "\tprint(msg)\n",
    "# boxplot algorithm comparison\n",
    "fig = plt.figure()\n",
    "fig.suptitle('Algorithm Comparison')\n",
    "ax = fig.add_subplot(111)\n",
    "plt.boxplot(results)\n",
    "ax.set_xticklabels(names)\n",
    "plt.show()"
   ]
  },
  {
   "cell_type": "code",
   "execution_count": null,
   "metadata": {},
   "outputs": [],
   "source": [
    "from pandas.tools.plotting import table\n",
    "\n",
    "ax = plt.subplot(111, frame_on=False) # no visible frame\n",
    "ax.xaxis.set_visible(False)  # hide the x axis\n",
    "ax.yaxis.set_visible(False)  # hide the y axis\n",
    "\n",
    "table(ax, df)  # where df is your data frame\n",
    "\n",
    "plt.savefig('mytable.png')"
   ]
  }
 ],
 "metadata": {
  "kernelspec": {
   "display_name": "Python 3",
   "language": "python",
   "name": "python3"
  },
  "language_info": {
   "codemirror_mode": {
    "name": "ipython",
    "version": 3
   },
   "file_extension": ".py",
   "mimetype": "text/x-python",
   "name": "python",
   "nbconvert_exporter": "python",
   "pygments_lexer": "ipython3",
   "version": "3.6.5"
  }
 },
 "nbformat": 4,
 "nbformat_minor": 2
}
